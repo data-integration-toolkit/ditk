{
 "cells": [
  {
   "cell_type": "markdown",
   "metadata": {},
   "source": [
    "# ComplEx- Graph Embeddings Project for CSCI 548\n",
    "## Demonstration Jupyter Notebook"
   ]
  },
  {
   "cell_type": "code",
   "execution_count": 1,
   "metadata": {},
   "outputs": [],
   "source": [
    "import os\n",
    "import sys\n",
    "\n",
    "if os.name == 'nt':\n",
    "    module_path = os.path.abspath(os.path.join('..\\..\\..'))\n",
    "else:\n",
    "    module_path = os.path.abspath(os.path.join('../../..'))\n",
    "    \n",
    "if module_path not in sys.path:\n",
    "    sys.path.append(module_path)\n",
    "    \n",
    "from complex import ComplEx\n",
    "\n",
    "INPUT_FILE_PATH = \"D:\\\\USC\\\\CS548\\\\groupdat\\\\FB15k\\\\\"\n",
    "MODEL_FILE_PATH = INPUT_FILE_PATH\n",
    "\n",
    "TRAIN_FILE_NAME = \"train.txt\"\n",
    "VALIDATION_FILE_NAME = \"valid.txt\"\n",
    "WHOLE_FILE_NAME = \"whole.txt\"\n",
    "TEST_FILE_NAME = \"test.txt\"\n",
    "\n",
    "RELATIONS_FILE_NAME = \"relation2id.txt\"\n",
    "ENTITIES_FILE_NAME = \"entity2id.txt\"\n",
    "\n",
    "MODEL_FILE_NAME = \"complex.mod\""
   ]
  },
  {
   "cell_type": "markdown",
   "metadata": {},
   "source": [
    "### Read Data Set - This must be run before executing learn_embeddings\n",
    "Validation and Whole Text files are optional"
   ]
  },
  {
   "cell_type": "code",
   "execution_count": 2,
   "metadata": {},
   "outputs": [
    {
     "name": "stderr",
     "output_type": "stream",
     "text": [
      "INFO:root:Input Files ...\n",
      "INFO:root:  entities -----> D:\\USC\\CS548\\groupdat\\FB15k\\entity2id.txt\n",
      "INFO:root: relations -----> D:\\USC\\CS548\\groupdat\\FB15k\\relation2id.txt\n",
      "INFO:root:     train -----> D:\\USC\\CS548\\groupdat\\FB15k\\train.txt\n",
      "INFO:root:Preparing data...\n",
      "INFO:root:   Done loading data...\n"
     ]
    }
   ],
   "source": [
    "algorithm = ComplEx()\n",
    "\n",
    "train_file_names = {\"train\": INPUT_FILE_PATH + TRAIN_FILE_NAME,\n",
    "# Optional          \"valid\": INPUT_FILE_PATH + VALIDATION_FILE_NAME,\n",
    "# Optional          \"whole\": INPUT_FILE_PATH + WHOLE_FILE_NAME,\n",
    "                    \"relations\": INPUT_FILE_PATH + RELATIONS_FILE_NAME,\n",
    "                    \"entities\": INPUT_FILE_PATH + ENTITIES_FILE_NAME}\n",
    "\n",
    "algorithm.read_dataset(train_file_names)\n"
   ]
  },
  {
   "cell_type": "markdown",
   "metadata": {},
   "source": [
    "### Learn Embeddings - Data Set Must be Read First\n",
    "this should take several minutes per epoch if using the time minimizing hyper-parameters below and no filtered evaluation or validation"
   ]
  },
  {
   "cell_type": "code",
   "execution_count": 4,
   "metadata": {},
   "outputs": [
    {
     "name": "stderr",
     "output_type": "stream",
     "text": [
      "INFO:root:Learning Embeddings...\n",
      "INFO:root:Arguments...\n",
      "INFO:root:     batch -----> 128\n",
      "INFO:root:  cp_ratio -----> 0.5\n",
      "INFO:root:       dim -----> 40\n",
      "INFO:root:     epoch -----> 5\n",
      "INFO:root:  filtered -----> False\n",
      "INFO:root:  gradclip -----> 5\n",
      "INFO:root:    l2_reg -----> 0.001\n",
      "INFO:root:        lr -----> 0.05\n",
      "INFO:root:    margin -----> 1\n",
      "INFO:root:      mode -----> single\n",
      "INFO:root:     nbest -----> 10\n",
      "INFO:root:  negative -----> 1\n",
      "INFO:root:       opt -----> adagrad\n",
      "INFO:root: save_step -----> 30\n",
      "INFO:root:setup trainer...\n",
      "INFO:root:start 1 epoch\n",
      "INFO:root:training loss in 1 epoch: 2441.497601469053\n",
      "INFO:root:training time in 1 epoch: 43.67363953590393\n",
      "INFO:root:start 2 epoch\n",
      "INFO:root:training loss in 2 epoch: 1836.073705813659\n",
      "INFO:root:training time in 2 epoch: 44.57002019882202\n",
      "INFO:root:start 3 epoch\n",
      "INFO:root:training loss in 3 epoch: 1624.363700853205\n",
      "INFO:root:training time in 3 epoch: 44.05403232574463\n",
      "INFO:root:start 4 epoch\n",
      "INFO:root:training loss in 4 epoch: 1468.7192094451339\n",
      "INFO:root:training time in 4 epoch: 44.80353665351868\n",
      "INFO:root:start 5 epoch\n",
      "INFO:root:training loss in 5 epoch: 1293.8331244652122\n",
      "INFO:root:training time in 5 epoch: 43.96387338638306\n",
      "INFO:root:done all\n"
     ]
    }
   ],
   "source": [
    "parameters = {\"mode\": 'single',\n",
    "              \"epoch\": 5,\n",
    "              \"batch\": 128,\n",
    "              \"lr\": 0.05,\n",
    "              \"dim\": 40,             # reduced these from 200 to save processing time\n",
    "              \"negative\": 1,         # reduced from 5 to save processing time\n",
    "              \"opt\": 'adagrad',\n",
    "              \"l2_reg\": 0.001,\n",
    "              \"gradclip\": 5,\n",
    "              'filtered': False}     # turned filtered output off to save processing time\n",
    " \n",
    "algorithm.learn_embeddings(parameters)\n"
   ]
  },
  {
   "cell_type": "markdown",
   "metadata": {},
   "source": [
    "### Save Model - Optional"
   ]
  },
  {
   "cell_type": "code",
   "execution_count": 5,
   "metadata": {},
   "outputs": [
    {
     "name": "stdout",
     "output_type": "stream",
     "text": [
      "Saving model: D:\\USC\\CS548\\groupdat\\FB15k\\complex.mod\n",
      "  Model saved:\n"
     ]
    }
   ],
   "source": [
    "algorithm.save_model(MODEL_FILE_PATH + MODEL_FILE_NAME)\n"
   ]
  },
  {
   "cell_type": "markdown",
   "metadata": {},
   "source": [
    "### Load Model - Optional\n",
    "This can load a previously saved model for evaluation or other purposes, not required if current instance of ComplEx has loaded a dataset and learned the embeddings for that dataset"
   ]
  },
  {
   "cell_type": "code",
   "execution_count": 6,
   "metadata": {},
   "outputs": [
    {
     "name": "stdout",
     "output_type": "stream",
     "text": [
      "Loading model: D:\\USC\\CS548\\groupdat\\FB15k\\complex.mod\n",
      "   Model loaded\n"
     ]
    }
   ],
   "source": [
    "new_alg = ComplEx()\n",
    "new_alg.load_model(MODEL_FILE_PATH + MODEL_FILE_NAME)\n"
   ]
  },
  {
   "cell_type": "markdown",
   "metadata": {},
   "source": [
    "### Add Some Test Data"
   ]
  },
  {
   "cell_type": "code",
   "execution_count": 7,
   "metadata": {},
   "outputs": [],
   "source": [
    "test_subs = ['/m/08mbj32', '/m/08mbj5d', '/m/08mg_b']\n",
    "test_rels = ['/location/statistical_region/religions./location/religion_percentage/religion',\n",
    "             '/military/military_conflict/combatants./military/military_combatant_group/combatants',\n",
    "             '/award/award_category/winners./award/award_honor/ceremony']\n",
    "test_obs = ['/m/0631_', '/m/0d060g', '/m/01bx35']\n"
   ]
  },
  {
   "cell_type": "markdown",
   "metadata": {},
   "source": [
    "### Print Embeddings for sub, rel, object\n",
    "Each entity & relation has 3 embeddings. Two embeddings are used for ComplEx part of Hybrid score measure (one a vector of real numbers and the other a vector of imaginary numbers). The other embedding is used for DistMult part of Hybrid score measure which only has a real number.  \n",
    "\n",
    "Output for each entity/relation retrieval function is tuple with each element having an array for the input list and its embedding, which is outputted as real part of complex number (ComplEx), imaginary part of complex number (Complex), real number (DistMult)  \n",
    "\n",
    "The length of each embedding vector will be equal to the number of dimensions used as a hyper-parameter to the training model divided by 2 (since complex"
   ]
  },
  {
   "cell_type": "code",
   "execution_count": 9,
   "metadata": {},
   "outputs": [
    {
     "name": "stdout",
     "output_type": "stream",
     "text": [
      "Length of embedding vector: 40, should equal number of dimensions of model assumption/2\n",
      "Subjects:\n",
      "(array([[-5.61960751e-01, -4.56937641e-01,  1.15988693e-01,\n",
      "        -3.56570515e-02,  3.05946142e-04, -3.66727256e-01,\n",
      "        -3.17947532e-01,  1.90198339e-01, -4.63260874e-01,\n",
      "        -4.45461772e-01,  1.60249664e-02,  1.73026954e-01,\n",
      "        -3.22635070e-01, -8.95369631e-02,  9.25154912e-01,\n",
      "         5.15317902e-01,  2.54222181e-03, -2.54843103e-01,\n",
      "        -4.43163382e-01,  7.12120524e-02,  3.99725172e-01,\n",
      "         1.49784161e-01,  8.42841459e-01, -9.55976185e-02,\n",
      "         2.23417043e-01, -6.44552194e-01, -1.59867750e-02,\n",
      "        -2.53060540e-01, -1.39797760e-01,  4.69377152e-01,\n",
      "         3.17748920e-01,  3.81624172e-01, -1.66862103e-01,\n",
      "         3.80903106e-01,  1.96301286e-01,  2.39373668e-01,\n",
      "         9.31574215e-01,  5.31629073e-01,  1.98028362e-01,\n",
      "         3.38972616e-01],\n",
      "       [-7.71631637e-01, -3.99835138e-02, -1.24020999e-01,\n",
      "        -4.99828783e-02,  1.40958311e-01, -1.53742040e-01,\n",
      "        -4.56454877e-01,  1.14607590e-01,  1.75031895e-01,\n",
      "         4.78456566e-01, -4.68451071e-01,  1.17022353e-01,\n",
      "        -2.47349076e-01,  2.03863703e-02,  9.75306234e-01,\n",
      "         3.99802663e-01, -2.09869111e-01,  2.64406409e-01,\n",
      "        -4.79847814e-01,  3.99645407e-01,  3.64697452e-01,\n",
      "         5.40838416e-02,  5.99319205e-01,  8.84804008e-02,\n",
      "         1.59591308e-01, -9.08221348e-01,  7.75988237e-02,\n",
      "        -1.57796893e-01,  2.44654688e-01, -3.48796362e-01,\n",
      "        -2.62915637e-01,  1.43679502e-01, -5.55815124e-01,\n",
      "         4.85271193e-02,  1.18242300e+00, -5.14005917e-01,\n",
      "         3.99239560e-01,  2.53220984e-02,  4.46101519e-01,\n",
      "         1.32688095e-01],\n",
      "       [-3.79148308e-01,  1.00979047e-01, -3.80613345e-02,\n",
      "         4.00509123e-01,  2.57136175e-01,  1.79704580e-03,\n",
      "        -6.88356046e-02, -2.51558276e-01, -3.12170930e-01,\n",
      "         3.33415121e-02, -2.49482369e-01, -4.69710794e-01,\n",
      "         4.78499826e-01, -2.50622701e-01, -3.00385647e-01,\n",
      "        -9.71481512e-02,  3.35582578e-02, -8.17511778e-02,\n",
      "         5.02085212e-01,  7.77459283e-02,  2.72994738e-02,\n",
      "        -1.23872188e-01, -7.13463541e-01,  2.15866046e-01,\n",
      "         1.11954881e-01,  4.58426005e-01,  1.94858970e-01,\n",
      "         2.16987474e-01, -6.82236082e-01,  1.83459976e-01,\n",
      "        -7.10013787e-02,  7.64964347e-02, -3.11215222e-01,\n",
      "         4.19309590e-01,  2.08680559e-01, -2.52493784e-01,\n",
      "        -7.29009460e-02,  4.88658679e-01, -2.52591859e-01,\n",
      "         3.23771132e-01]]), array([[-0.35543908,  0.02175174,  0.09771792, -0.58750877,  0.0424795 ,\n",
      "         0.28946225, -0.06737763, -0.17189373, -0.89557685, -0.87672461,\n",
      "        -0.62405334, -0.61960703,  0.17270802, -0.09533404, -0.6180422 ,\n",
      "         0.09828772, -0.00417442,  0.45926177, -1.34906903, -0.04743801,\n",
      "         0.35254607,  0.26702633, -0.31256414, -0.03067565, -0.23920594,\n",
      "        -0.39346001, -0.05918528,  0.16368604, -0.1012639 ,  0.24055617,\n",
      "         0.64189636, -0.59913141,  0.60473598,  0.10515035,  0.01987491,\n",
      "        -1.02163408,  0.51790942,  0.42017019, -1.29845493,  0.33396894],\n",
      "       [-0.17914636,  0.17049635,  0.195125  , -1.06214127, -0.04824414,\n",
      "         0.33558483, -0.31724341,  0.41366349, -0.87650869, -0.24113102,\n",
      "        -0.51821416, -0.94299472,  0.55851637,  0.31345133,  0.2555775 ,\n",
      "         0.38344874,  0.27812334,  0.25737859, -1.22714635, -0.05757827,\n",
      "         0.68771422,  0.2857918 , -0.35214713, -0.14776833,  0.119825  ,\n",
      "        -0.40058973,  0.05495692,  0.40773438,  0.03779518,  0.4593424 ,\n",
      "         0.17243845,  0.10889737,  0.53987002, -0.19210421,  0.28293883,\n",
      "        -0.82303933,  0.50431678, -0.01571009,  0.02483222,  0.2530461 ],\n",
      "       [-0.11450206, -0.09975949, -0.23163581,  0.07618207,  0.35773788,\n",
      "         0.46146978, -0.36265446, -0.07442461,  0.45151439,  0.48472616,\n",
      "        -0.07278628,  0.11495684, -0.12069155, -0.33303927, -0.11382108,\n",
      "        -0.03291478, -0.48393239, -0.00216836, -0.12363747,  0.09320997,\n",
      "        -0.25765587, -0.26991347,  0.5942193 ,  0.32370404,  0.087678  ,\n",
      "         0.11605465, -0.29880113, -0.36233908, -0.04012548,  0.15095025,\n",
      "        -0.18834633,  0.25373408, -0.07208245,  0.24120066, -0.17365643,\n",
      "         0.38693534,  0.16331721,  0.67079616,  0.04577615, -0.19443058]]))\n",
      "Relations:\n",
      "(array([[-4.61221968e-01,  2.28276030e-01, -3.15468303e-02,\n",
      "         1.40898427e-01,  2.89483977e-01, -1.78619324e-01,\n",
      "         1.57723168e-01,  1.39678517e-01,  4.61830307e-02,\n",
      "         1.20792550e-01,  1.59269916e-01, -8.19220099e-02,\n",
      "         2.34281237e-01, -7.63370596e-02,  2.30132342e-01,\n",
      "        -2.42739532e-01,  7.83528903e-02,  9.22098272e-02,\n",
      "         2.38050481e-01, -2.81349984e-01, -2.27135761e-01,\n",
      "         1.63057212e-01,  2.38785448e-02, -5.80094152e-02,\n",
      "         2.71836665e-01, -1.06867019e-01, -2.95891074e-01,\n",
      "        -3.78316889e-02,  8.47784365e-02, -2.25409810e-01,\n",
      "         2.02257563e-01, -1.54345676e-01,  2.79761757e-01,\n",
      "         4.67347459e-02, -1.12480844e-01,  2.08850314e-01,\n",
      "         3.74689188e-03,  4.35912000e-01, -6.51048782e-02,\n",
      "         4.90480320e-01],\n",
      "       [-2.96141540e-02,  1.98463597e-02,  9.97053626e-02,\n",
      "         2.92871597e-01,  9.67122803e-02,  4.32187710e-01,\n",
      "         7.59000703e-02,  7.93573519e-02,  3.54550912e-01,\n",
      "        -9.30902501e-02,  3.89459399e-01, -3.14002418e-02,\n",
      "         1.28932192e-01,  3.24597227e-01, -4.61793693e-02,\n",
      "        -2.15339791e-01,  5.19074302e-02, -1.76545705e-01,\n",
      "         1.37881970e-01,  6.03265932e-02,  2.22876099e-01,\n",
      "         1.60711110e-02,  2.23060297e-01, -9.00896301e-02,\n",
      "         1.34733105e-01,  1.52940649e-01, -5.78732729e-02,\n",
      "         1.47238432e-01, -3.61672827e-01, -2.24830158e-02,\n",
      "         1.04056791e-01,  1.45084120e-01, -1.58967935e-02,\n",
      "         1.95481537e-01, -2.08743962e-02,  2.35789531e-01,\n",
      "        -1.41813412e-01,  1.24909644e-01,  2.50427142e-01,\n",
      "         5.59218560e-01],\n",
      "       [ 1.88290416e-01, -3.64738978e-01, -5.93067709e-02,\n",
      "        -2.58561317e-01,  4.15128657e-01,  5.71866700e-01,\n",
      "        -3.02118823e-01,  2.79926955e-01, -1.31620001e-02,\n",
      "        -1.35621847e-01, -4.62294328e-02,  6.76062968e-02,\n",
      "        -4.07532012e-01, -1.68730823e-01,  1.88265512e-01,\n",
      "         2.07515819e-01, -1.62202714e-01,  3.26159177e-01,\n",
      "        -2.03094014e-01,  5.65590980e-01,  4.02011085e-01,\n",
      "        -7.91803141e-01,  7.80891505e-02, -3.10121678e-01,\n",
      "         3.56747637e-01, -3.44762270e-01,  7.63581867e-02,\n",
      "         1.17112805e-01, -3.17057783e-04,  1.12612722e-01,\n",
      "         1.77098257e-01, -4.64342889e-01, -3.47740871e-01,\n",
      "         3.23159058e-01,  4.18426833e-02, -1.97361133e-01,\n",
      "         1.23076719e-01,  1.61084315e-01,  2.00923758e-01,\n",
      "         5.14442758e-02]]), array([[-4.51324065e-01,  1.37511936e-01, -3.83477854e-02,\n",
      "         2.01927322e-03, -3.33199782e-01,  2.82545998e-01,\n",
      "         2.00498564e-01, -1.45108187e-01,  8.65535807e-03,\n",
      "        -1.33756899e-01, -3.45318310e-01,  1.02901967e-01,\n",
      "         1.36944980e-01, -4.71008596e-02,  3.28004964e-04,\n",
      "         3.07588680e-01, -3.22694051e-01, -1.41417456e-01,\n",
      "        -2.01940919e-01, -7.77140766e-02,  1.95614891e-01,\n",
      "        -4.98393887e-02, -9.39930460e-02, -4.64364234e-01,\n",
      "         3.44137054e-01, -1.92718592e-02,  7.92729815e-03,\n",
      "        -2.31185137e-01,  1.66052981e-01,  2.47733576e-02,\n",
      "        -7.87325606e-02, -2.18203157e-01,  5.35394275e-02,\n",
      "         1.91732318e-01,  1.12550452e-01, -3.05563638e-01,\n",
      "        -7.16820548e-02,  3.36104673e-02,  4.44464054e-01,\n",
      "        -4.59294942e-02],\n",
      "       [-7.02832487e-02, -5.41275027e-01,  1.96889164e-01,\n",
      "         1.90630255e-01,  1.60350475e-03,  2.48118211e-01,\n",
      "         3.95826249e-01,  5.33173051e-02,  1.56590619e-01,\n",
      "         1.57470441e-01,  3.94794107e-02, -4.54208025e-01,\n",
      "         2.08224713e-01, -1.25658217e-01,  1.66294391e-01,\n",
      "         5.02539804e-02,  1.80335302e-01,  1.87081023e-01,\n",
      "        -3.40570026e-01, -3.40732185e-01,  3.52883906e-01,\n",
      "        -5.19655638e-03, -5.75511887e-01, -3.36361292e-02,\n",
      "         4.29650278e-01,  5.03929360e-02,  2.92723755e-01,\n",
      "         2.70496565e-02,  1.41617192e-01, -1.99188096e-01,\n",
      "        -7.95651173e-02, -1.81224698e-01, -4.01816808e-01,\n",
      "        -2.45026174e-01, -4.26248363e-02, -4.21209386e-01,\n",
      "         2.74457596e-01,  3.53717083e-01,  2.68922436e-01,\n",
      "         1.31416685e-01],\n",
      "       [ 2.34242340e-02, -1.27545397e-01,  2.78876627e-01,\n",
      "         2.30547035e-01,  4.05498070e-01,  3.19170389e-01,\n",
      "        -3.15551043e-01,  3.31416104e-01,  1.52810353e-01,\n",
      "        -1.97570057e-01,  1.68765252e-01, -3.81157970e-01,\n",
      "         2.97382683e-01, -1.46409994e-01,  3.98745945e-01,\n",
      "         2.16394278e-01, -3.46508878e-01, -1.22088364e-01,\n",
      "         8.83266156e-01, -2.37489064e-01, -1.53878273e-02,\n",
      "         2.98251861e-01, -6.84385465e-01, -1.49053529e-01,\n",
      "         3.96392165e-01, -1.09423233e-03, -1.72399932e-01,\n",
      "        -6.99589364e-02, -1.14635098e-01,  1.74299404e-01,\n",
      "         7.84783452e-02,  1.53561871e-01,  1.57946326e-01,\n",
      "        -1.72837761e-01, -2.40390392e-01, -3.29124426e-01,\n",
      "        -4.38442557e-01,  6.65622087e-02, -2.80396634e-01,\n",
      "         2.06464681e-01]]))\n",
      "Objects:\n",
      "(array([[-0.08999532,  0.44052561, -0.12965721, -0.08960682,  0.47612904,\n",
      "         0.22561287, -0.07600624,  0.36193741, -0.04250031,  0.31948529,\n",
      "         0.21275786,  0.14010058, -0.083656  , -0.73462364, -0.28014793,\n",
      "        -0.116101  , -0.43107593,  0.1972235 , -0.10240027, -0.06730736,\n",
      "        -0.00883207,  0.33036691, -0.36362877, -0.01571637, -0.52789911,\n",
      "         0.0978255 , -0.08403496,  0.05833451,  0.2103846 ,  0.33184607,\n",
      "        -0.03580812,  0.05376503,  0.05949059,  0.14020833, -0.28134781,\n",
      "         0.6493708 , -0.18693113,  0.30225733,  0.14696957,  0.53141762],\n",
      "       [ 0.2965541 ,  0.17265147, -0.49054842,  0.5949557 , -0.50795604,\n",
      "        -0.4801282 ,  0.79029921, -0.85457865,  0.01896222, -0.02767187,\n",
      "         0.40332603, -0.4263019 , -0.63743919, -0.04780419,  0.29953392,\n",
      "         0.1331648 , -0.18470142, -0.10579335,  0.19788569, -0.02918801,\n",
      "        -0.92418996,  0.20476829,  0.58352269,  0.0520619 , -0.54800797,\n",
      "         0.28238411, -0.47470337,  0.03252592,  0.34583401, -0.01329312,\n",
      "        -0.19536622,  0.7944028 ,  1.07677905, -0.54018328,  0.81856971,\n",
      "        -0.63330441, -0.20433747,  0.48568425, -0.35885745, -0.18903849],\n",
      "       [ 0.01629494, -0.63897377, -0.17662869,  0.36814204,  0.40646501,\n",
      "         0.20990031,  0.24235788,  0.53664341,  0.38915244, -0.26804436,\n",
      "         0.30768105,  0.02820967,  0.0834729 , -0.37257797, -0.33919338,\n",
      "        -0.11795489,  0.32239977,  0.19193481, -0.81670124, -0.62208779,\n",
      "        -0.3531016 , -0.30011465, -0.09706135, -0.52216531, -0.14224784,\n",
      "         0.72774512, -0.08823801, -0.0279009 ,  0.00863925,  0.38903997,\n",
      "        -0.36786852,  0.03926088,  0.05453041, -0.22057733, -0.03325536,\n",
      "         0.28083489, -0.30527029,  0.24565307,  0.12093516, -0.17399151]]), array([[ 0.15435036, -0.38885247, -0.04985189,  0.25264778, -0.10292897,\n",
      "         0.60252732,  0.42188506, -0.52745694, -0.07084471, -0.33357532,\n",
      "         0.06453489, -0.00208603,  0.61686637, -0.25016601,  0.17995325,\n",
      "         0.41007466, -0.77232817,  0.01914215, -0.25058221,  0.15977185,\n",
      "        -0.26552745, -0.26468534, -0.47076142, -0.28391347, -0.35539286,\n",
      "        -0.0695927 ,  0.43991212,  0.27428096,  0.15016461, -0.0772574 ,\n",
      "         0.25714897, -0.69128506, -0.13898224,  0.13488785,  0.1952272 ,\n",
      "        -0.42558202, -1.07061237,  0.05250936,  0.17268742,  0.13173589],\n",
      "       [-0.03834683, -0.05857072, -0.80723001,  0.81694607,  0.2508767 ,\n",
      "        -1.09318079, -0.36633282,  0.03179407,  0.13505913, -0.04673705,\n",
      "         0.15579051,  0.19277002,  0.46102723,  0.2637944 ,  0.16887434,\n",
      "         0.34741018,  0.50524572, -0.55935288,  0.5685844 ,  0.06687608,\n",
      "         0.24403192,  0.21836368, -0.00592968,  0.30582245, -0.17869188,\n",
      "         0.50503626, -0.13394924,  0.46542178, -0.12197372,  0.80394081,\n",
      "         0.00649265, -0.07936992,  0.47697787,  0.25698035,  0.62189945,\n",
      "        -0.62228263, -0.44516973, -0.32117903, -0.27231579, -0.47977507],\n",
      "       [ 0.24613878,  0.07760049, -0.23273126, -0.17317219, -0.1810425 ,\n",
      "         0.64347273,  0.2411781 ,  0.16578913,  0.494807  , -0.38178913,\n",
      "        -1.03627715,  0.59349491,  0.27770381, -0.25095416, -0.21310929,\n",
      "         0.27368919, -0.2133772 , -0.05301424, -0.68612684,  0.38549719,\n",
      "         0.32731805,  0.38955332, -0.2700299 , -0.09853812,  0.09451494,\n",
      "         0.48308816,  0.33840634, -0.16400218,  0.10659271,  0.21736219,\n",
      "         0.97310738, -0.28971566, -0.48649627, -0.37234804, -0.35082522,\n",
      "        -0.31349973, -0.17759635,  1.0695919 , -0.32832936, -0.38439016]]))\n"
     ]
    }
   ],
   "source": [
    "subs = new_alg.retrieve_entity_embeddings(test_subs)\n",
    "print(\"Length of embedding vector: {}, should equal number of dimensions of model assumption/2\".format(len(subs[0][0])))\n",
    "print(\"Subjects:\")\n",
    "print(subs)\n",
    "\n",
    "rels = new_alg.retrieve_relations_embeddings(test_rels)\n",
    "print(\"Relations:\")\n",
    "print(rels)\n",
    "\n",
    "objs = new_alg.retrieve_entity_embeddings(test_obs)\n",
    "print(\"Objects:\")\n",
    "print(objs)"
   ]
  },
  {
   "cell_type": "markdown",
   "metadata": {},
   "source": [
    "### Scoring Matrix for Test Data\n",
    "Length of each scoring vector (there are 3 for the above test data, one for each s,r,o triplet given) is equal to the number of entities in the vocabulary. For example, for FB15k this is 14,951. \n"
   ]
  },
  {
   "cell_type": "code",
   "execution_count": 10,
   "metadata": {},
   "outputs": [
    {
     "name": "stdout",
     "output_type": "stream",
     "text": [
      "[[-0.01857784  0.71207095 -0.03385617 ...  0.7641884   0.52066307\n",
      "  -0.12732459]\n",
      " [ 1.45199499  0.0968879   0.21870539 ... -0.16897282  0.07704875\n",
      "   0.42111322]\n",
      " [-0.46635306 -0.02038394  1.06053692 ...  0.58442756 -0.34375057\n",
      "   0.42061662]]\n",
      "Number of test triplets in data: 3\n",
      "Length of a scoring vector: 14951\n"
     ]
    }
   ],
   "source": [
    "sm = algorithm.retrieve_scoring_matrix(test_subs, test_rels)\n",
    "print(sm)\n",
    "print(\"Number of test triplets in data: {}\".format(len(sm)))\n",
    "print(\"Length of a scoring vector: {}\".format(len(sm[0])))"
   ]
  },
  {
   "cell_type": "markdown",
   "metadata": {},
   "source": [
    "### Evaluation of Trained Model\n",
    "Produces evaluation metrics for model, whole text file is optional"
   ]
  },
  {
   "cell_type": "code",
   "execution_count": 11,
   "metadata": {},
   "outputs": [
    {
     "name": "stdout",
     "output_type": "stream",
     "text": [
      "Running model evaluation\n",
      "loading whole graph...\n",
      "Hits@1              : 0.06701257808400062\n",
      "Hits@1(filter)      : 0.11696940969341978\n",
      "Hits@10             : 0.257207428348936\n",
      "Hits@10(filter)     : 0.34541483976909143\n",
      "Hits@3              : 0.13523556398232636\n",
      "Hits@3(filter)      : 0.21364967581385114\n",
      "MRR                 : 0.12965997678300362\n",
      "MRR(filter)         : 0.19303451291192836\n"
     ]
    }
   ],
   "source": [
    "evaluate_file_names = {\"test\": INPUT_FILE_PATH + TEST_FILE_NAME,\n",
    "                       \"whole\": INPUT_FILE_PATH + WHOLE_FILE_NAME}  #  Optional\n",
    "all_res = new_alg.evaluate(evaluate_file_names)\n",
    "for metric in sorted(all_res.keys()):\n",
    "    print('{:20s}: {}'.format(metric, all_res[metric]))"
   ]
  },
  {
   "cell_type": "code",
   "execution_count": null,
   "metadata": {},
   "outputs": [],
   "source": []
  }
 ],
 "metadata": {
  "celltoolbar": "Raw Cell Format",
  "kernelspec": {
   "display_name": "Python 3",
   "language": "python",
   "name": "python3"
  },
  "language_info": {
   "codemirror_mode": {
    "name": "ipython",
    "version": 3
   },
   "file_extension": ".py",
   "mimetype": "text/x-python",
   "name": "python",
   "nbconvert_exporter": "python",
   "pygments_lexer": "ipython3",
   "version": "3.7.3"
  }
 },
 "nbformat": 4,
 "nbformat_minor": 1
}
