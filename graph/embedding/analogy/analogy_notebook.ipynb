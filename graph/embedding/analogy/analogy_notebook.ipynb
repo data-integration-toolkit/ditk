{
 "cells": [
  {
   "cell_type": "markdown",
   "metadata": {},
   "source": [
    "# ANALOGY\n",
    "## Demonstration Jupyter Notebook"
   ]
  },
  {
   "cell_type": "code",
   "execution_count": 3,
   "metadata": {},
   "outputs": [],
   "source": [
    "import os\n",
    "import sys\n",
    "\n",
    "if os.name == 'nt':\n",
    "    module_path = os.path.abspath(os.path.join('..\\..\\..'))\n",
    "else:\n",
    "    module_path = os.path.abspath(os.path.join('../../..'))\n",
    "    \n",
    "if module_path not in sys.path:\n",
    "    sys.path.append(module_path)\n",
    "    \n",
    "from analogy import ANALOGY\n",
    "\n",
    "INPUT_FILE_PATH = \"D:\\\\USC\\\\CS548\\\\groupdat\\\\FB15k\\\\\"\n",
    "MODEL_FILE_PATH = INPUT_FILE_PATH\n",
    "\n",
    "TRAIN_FILE_NAME = \"train.txt\"\n",
    "VALIDATION_FILE_NAME = \"valid.txt\"\n",
    "WHOLE_FILE_NAME = \"whole.txt\"\n",
    "TEST_FILE_NAME = \"test.txt\"\n",
    "\n",
    "RELATIONS_FILE_NAME = \"relation2id.txt\"\n",
    "ENTITIES_FILE_NAME = \"entity2id.txt\"\n",
    "\n",
    "MODEL_FILE_NAME = \"analogy.mod\""
   ]
  },
  {
   "cell_type": "markdown",
   "metadata": {},
   "source": [
    "### Read Data Set - This must be run before executing learn_embeddings\n",
    "Validation and Whole Text files are optional"
   ]
  },
  {
   "cell_type": "code",
   "execution_count": 4,
   "metadata": {},
   "outputs": [
    {
     "name": "stderr",
     "output_type": "stream",
     "text": [
      "INFO:root:Input Files ...\n",
      "INFO:root:  entities -----> D:\\USC\\CS548\\groupdat\\FB15k\\entity2id.txt\n",
      "INFO:root: relations -----> D:\\USC\\CS548\\groupdat\\FB15k\\relation2id.txt\n",
      "INFO:root:     train -----> D:\\USC\\CS548\\groupdat\\FB15k\\train.txt\n",
      "INFO:root:     whole -----> D:\\USC\\CS548\\groupdat\\FB15k\\whole.txt\n",
      "INFO:root:Preparing data...\n",
      "INFO:root:   Loading whole graph...\n",
      "INFO:root:   Done loading data...\n"
     ]
    }
   ],
   "source": [
    "algorithm = ANALOGY()\n",
    "\n",
    "train_file_names = {\"train\": INPUT_FILE_PATH + TRAIN_FILE_NAME,\n",
    "# Optional          \"valid\": INPUT_FILE_PATH + VALIDATION_FILE_NAME,\n",
    "                    \"whole\": INPUT_FILE_PATH + WHOLE_FILE_NAME,\n",
    "                    \"relations\": INPUT_FILE_PATH + RELATIONS_FILE_NAME,\n",
    "                    \"entities\": INPUT_FILE_PATH + ENTITIES_FILE_NAME}\n",
    "\n",
    "algorithm.read_dataset(train_file_names)\n"
   ]
  },
  {
   "cell_type": "markdown",
   "metadata": {},
   "source": [
    "### Learn Embeddings - Data Set Must be Read First\n",
    "this should take several minutes per epoch if using the time minimizing hyper-parameters below and no filtered evaluation or validation"
   ]
  },
  {
   "cell_type": "code",
   "execution_count": 5,
   "metadata": {},
   "outputs": [
    {
     "name": "stderr",
     "output_type": "stream",
     "text": [
      "INFO:root:Learning Embeddings...\n",
      "INFO:root:Arguments...\n",
      "INFO:root:     batch -----> 128\n",
      "INFO:root:       dim -----> 40\n",
      "INFO:root:     epoch -----> 3\n",
      "INFO:root:  filtered -----> True\n",
      "INFO:root:  gradclip -----> 5\n",
      "INFO:root:    l2_reg -----> 0.001\n",
      "INFO:root:        lr -----> 0.05\n",
      "INFO:root:      mode -----> single\n",
      "INFO:root:  negative -----> 1\n",
      "INFO:root:       opt -----> adagrad\n",
      "INFO:root:setup trainer...\n",
      "INFO:root:start 1 epoch\n",
      "INFO:root:training loss in 1 epoch: 2562.1351944025305\n",
      "INFO:root:training time in 1 epoch: 58.310484409332275\n",
      "INFO:root:start 2 epoch\n",
      "INFO:root:training loss in 2 epoch: 2134.851779754586\n",
      "INFO:root:training time in 2 epoch: 58.2355432510376\n",
      "INFO:root:start 3 epoch\n",
      "INFO:root:training loss in 3 epoch: 1819.3407248218366\n",
      "INFO:root:training time in 3 epoch: 58.1825897693634\n",
      "INFO:root:done all\n"
     ]
    }
   ],
   "source": [
    "parameters = {\"mode\": 'single',\n",
    "              \"epoch\": 3,\n",
    "              \"batch\": 128,\n",
    "              \"lr\": 0.05,\n",
    "              \"dim\": 40,             # reduced these from 200 to save processing time\n",
    "              \"negative\": 1,         # reduced from 5 to save processing time\n",
    "              \"opt\": 'adagrad',\n",
    "              \"l2_reg\": 0.001,\n",
    "              \"gradclip\": 5,\n",
    "              'filtered': True}     # turned filtered output off to save processing time\n",
    " \n",
    "algorithm.learn_embeddings(parameters)\n"
   ]
  },
  {
   "cell_type": "markdown",
   "metadata": {},
   "source": [
    "### Save Model - Optional"
   ]
  },
  {
   "cell_type": "code",
   "execution_count": 6,
   "metadata": {},
   "outputs": [
    {
     "name": "stdout",
     "output_type": "stream",
     "text": [
      "Saving model: D:\\USC\\CS548\\groupdat\\FB15k\\analogy.mod\n",
      "  Model saved:\n"
     ]
    }
   ],
   "source": [
    "algorithm.save_model(MODEL_FILE_PATH + MODEL_FILE_NAME)\n"
   ]
  },
  {
   "cell_type": "markdown",
   "metadata": {},
   "source": [
    "### Load Model - Optional\n",
    "This can load a previously saved model for evaluation or other purposes, not required if current instance of ANALOGY has loaded a dataset and learned the embeddings for that dataset"
   ]
  },
  {
   "cell_type": "code",
   "execution_count": 7,
   "metadata": {},
   "outputs": [
    {
     "name": "stdout",
     "output_type": "stream",
     "text": [
      "Loading model: D:\\USC\\CS548\\groupdat\\FB15k\\analogy.mod\n",
      "   Model loaded\n"
     ]
    }
   ],
   "source": [
    "new_alg = ANALOGY()\n",
    "new_alg.load_model(MODEL_FILE_PATH + MODEL_FILE_NAME)\n"
   ]
  },
  {
   "cell_type": "markdown",
   "metadata": {},
   "source": [
    "### Add Some Test Data"
   ]
  },
  {
   "cell_type": "code",
   "execution_count": 8,
   "metadata": {},
   "outputs": [],
   "source": [
    "test_subs = ['/m/08mbj32', '/m/08mbj5d', '/m/08mg_b']\n",
    "test_rels = ['/location/statistical_region/religions./location/religion_percentage/religion',\n",
    "             '/military/military_conflict/combatants./military/military_combatant_group/combatants',\n",
    "             '/award/award_category/winners./award/award_honor/ceremony']\n",
    "test_obs = ['/m/0631_', '/m/0d060g', '/m/01bx35']\n"
   ]
  },
  {
   "cell_type": "markdown",
   "metadata": {},
   "source": [
    "### Print Embeddings for sub, rel, object\n",
    "Each entity & relation has 3 embeddings. Two embeddings are used for ComplEx part of Hybrid score measure (one a vector of real numbers and the other a vector of imaginary numbers). The other embedding is used for DistMult part of Hybrid score measure which only has a real number.  \n",
    "\n",
    "Output for each entity/relation retrieval function is tuple with each element having an array for the input list and its embedding, which is outputted as real part of complex number (ComplEx), imaginary part of complex number (Complex), real number (DistMult)  \n",
    "\n",
    "The length of each embedding vector will be equal to the number of dimensions used as a hyper-parameter to the training model divided by 2 (since complex"
   ]
  },
  {
   "cell_type": "code",
   "execution_count": 9,
   "metadata": {},
   "outputs": [
    {
     "name": "stdout",
     "output_type": "stream",
     "text": [
      "Length of embedding vector: 20, should equal number of dimensions of model assumption/2\n",
      "Subjects:\n",
      "(array([[-0.11599567, -0.09913024, -0.56126962, -0.03843246,  0.2027402 ,\n",
      "        -0.21039491, -0.04347815,  0.18943705, -0.81214096,  0.23792471,\n",
      "         0.53002726,  0.24625408,  0.16786235,  0.02220208, -0.1450165 ,\n",
      "         0.26209121, -0.11544381,  0.95422802, -0.51634763, -0.43180553],\n",
      "       [-0.34467764,  0.38421007, -0.18595466,  0.15601741,  0.02051645,\n",
      "         0.11464661, -0.7570818 , -0.06532293, -0.43547332,  0.7957481 ,\n",
      "        -0.09950476,  0.10988647,  0.33239722, -0.32173038, -0.19239841,\n",
      "        -0.46784771,  0.05252034,  0.74668253, -0.48052335, -0.3940016 ],\n",
      "       [-0.23951378, -0.00100591,  0.30055812, -0.02605304,  0.31145547,\n",
      "        -0.32767302,  0.57782853,  0.05607674,  0.01100984,  0.28774833,\n",
      "        -0.20066594,  0.08106874,  0.31468235, -0.09054843, -0.06231675,\n",
      "         0.01841071, -0.41544719,  0.37955573,  0.30039227,  0.19988216]]), array([[ 0.02243235,  0.20283892,  0.25025762,  0.18349292,  0.21959802,\n",
      "         0.23575985,  0.24233729, -0.10345897, -0.94667178, -0.70047645,\n",
      "         0.11046833,  0.05047087,  0.48354294,  0.13905568,  0.07499199,\n",
      "         0.28223414,  0.02173296, -0.53241135,  0.04835169, -0.36535946],\n",
      "       [-0.27298107,  0.7581114 , -0.36114475, -0.22073132, -0.15850048,\n",
      "        -0.02313085, -0.19449797,  0.05387432, -1.19547895, -0.2522749 ,\n",
      "        -0.15042434,  0.4377078 ,  0.57960084,  0.14149206, -0.10998474,\n",
      "         0.82100173,  0.04511513,  0.10308775,  0.07086333, -0.6374142 ],\n",
      "       [ 0.09433425, -0.63037501,  0.40160646,  0.13136622, -0.09407647,\n",
      "        -0.17349051,  0.08778788, -0.28438763,  0.26309596,  0.08478137,\n",
      "         0.29634507,  0.16839945, -0.14111583,  0.05572671,  0.07973354,\n",
      "        -0.52966946, -0.63305937,  0.10417925,  0.21093507, -0.21839087]]), array([[ 0.47138811, -0.03761116, -0.15331392, -0.16600646, -0.36300487,\n",
      "        -0.4701762 , -0.08900199, -0.05607894,  0.62066729, -0.03401153,\n",
      "         0.05983789, -0.27033927, -0.54416081,  0.47059336, -0.32475518,\n",
      "        -0.04007   , -0.47520934, -0.21187108, -0.55751901, -0.08668839],\n",
      "       [ 1.14628315, -0.0919447 , -0.10266751, -0.17422088, -0.23421718,\n",
      "         0.23097511,  0.04757547, -0.07608298,  0.6570529 ,  0.59750513,\n",
      "         0.04406737, -0.39151329, -1.01560539,  0.24069117, -0.14648966,\n",
      "        -0.07450788, -0.24993658,  0.19382288, -0.13002921,  0.02668862],\n",
      "       [ 0.17859913, -0.49104754, -0.19919981, -0.54981694, -0.13810859,\n",
      "         0.38064333,  0.12558447,  0.04023728, -0.22021259,  0.20906997,\n",
      "        -0.12727458, -0.23787079, -0.0506036 ,  0.0039698 ,  0.31992597,\n",
      "         0.05111254,  0.24253654,  0.05097918,  0.27201175,  0.2639319 ]]))\n",
      "Relations:\n",
      "(array([[-0.23385302, -0.35232492, -0.2155831 , -0.14480926,  0.00707333,\n",
      "        -0.114913  ,  0.18717658,  0.39882439, -0.04235676, -0.08486979,\n",
      "         0.16564227,  0.29685609,  0.14354797, -0.29211808,  0.22155828,\n",
      "        -0.25431989, -0.27063499,  0.19368898, -0.01716776, -0.5262784 ],\n",
      "       [ 0.32763394,  0.3507789 , -0.48887669,  0.28056238,  0.0517638 ,\n",
      "         0.30606768,  0.20156654, -0.23627703, -0.06719898, -0.10124006,\n",
      "         0.15996903,  0.13942819,  0.13824386, -0.26859895,  0.33511647,\n",
      "        -0.13825916, -0.27974329,  0.11677469,  0.20019026, -0.16061965],\n",
      "       [ 0.5048228 ,  0.12220342, -0.13798641,  0.1970801 , -0.24107639,\n",
      "         0.10537799, -0.3899493 ,  0.18392561,  0.02917616, -0.07570631,\n",
      "        -0.08988405,  0.25460661, -0.32718205, -0.15740547,  0.22313449,\n",
      "         0.24360916, -0.03983888,  0.06440466, -0.27077428,  0.02922376]]), array([[-0.18321371,  0.21972749,  0.05506143,  0.02612287, -0.11793309,\n",
      "         0.25311536,  0.05270848,  0.38074924, -0.09402968,  0.06395226,\n",
      "         0.48209416,  0.25450195,  0.28742357, -0.1374933 , -0.13656705,\n",
      "        -0.10211765,  0.10983609,  0.27786074, -0.03038709, -0.32073487],\n",
      "       [ 0.09029903, -0.31036778, -0.10134852, -0.27193867,  0.09390655,\n",
      "        -0.45565126, -0.06710637, -0.23051275, -0.20540698,  0.17160559,\n",
      "         0.01910527,  0.04161558, -0.55970129, -0.03473587, -0.2196411 ,\n",
      "        -0.13602181,  0.14169843, -0.03334016, -0.01757291, -0.4726412 ],\n",
      "       [-0.20700044,  0.41201953,  0.18359915, -0.41195186,  0.31594965,\n",
      "        -0.12131701,  0.46169481, -0.08473892, -0.13223674, -0.30664371,\n",
      "        -0.24776032,  0.05257454, -0.0812807 ,  0.26789781,  0.00732828,\n",
      "        -0.36174156,  0.00069474,  0.06659485,  0.34320447,  0.54134092]]), array([[-0.06616305,  0.27652476, -0.03014526, -0.12938927, -0.10400854,\n",
      "        -0.31833621, -0.20322288,  0.04535565, -0.33351977, -0.13355573,\n",
      "         0.00392249,  0.25556402,  0.01794704,  0.33343236, -0.10112782,\n",
      "        -0.10958481, -0.03657226, -0.42024866, -0.05280275, -0.72816227],\n",
      "       [ 0.00243234,  0.20385687,  0.15232434,  0.34168647,  0.30101489,\n",
      "         0.4146172 ,  0.15161275,  0.22380922, -0.25280815, -0.11284648,\n",
      "         0.15169482,  0.00432665, -0.03306589, -0.10705556, -0.32193181,\n",
      "        -0.21001033,  0.50550238, -0.23929818, -0.29998191, -0.20184995],\n",
      "       [ 0.40471258, -0.85768516,  0.12129589, -0.68336154,  0.00342227,\n",
      "         0.37435163, -0.07842184, -0.20034804,  0.26797688, -0.0702396 ,\n",
      "         0.2893213 ,  0.27931419, -0.43829645,  0.22081711,  0.42824856,\n",
      "         0.00341539,  0.57187206,  0.0352124 , -0.39385418, -0.39592084]]))\n",
      "Objects:\n",
      "(array([[-0.18113423, -0.26505956,  0.08546942, -0.16692456, -0.08445396,\n",
      "        -0.54823416,  0.11828806,  0.38081102, -0.21263678,  0.18978116,\n",
      "         0.16625495,  0.09167355, -0.22024689, -0.53867065,  0.28908647,\n",
      "        -0.26742935, -0.0173043 ,  0.21248537,  0.27301737, -0.29250408],\n",
      "       [ 0.40657715, -0.06667107,  0.03595233,  0.02208542,  0.56520226,\n",
      "         0.42513574, -0.3743528 , -0.27794734, -0.71130185, -0.30031976,\n",
      "         0.55903629, -0.73108207, -0.16172619, -0.02301036,  0.55403136,\n",
      "        -0.35471438,  0.52418753,  0.19006247,  0.32296025,  0.82072785],\n",
      "       [-0.35712283,  0.25968094,  0.03638377,  0.2355371 , -0.49009727,\n",
      "         0.83197841, -0.27798667, -0.44855336,  0.60898158,  0.13444487,\n",
      "        -0.20708563, -0.04325224,  0.17670948, -0.31204019,  0.13220213,\n",
      "        -0.14156902,  0.13083925, -0.01186853, -0.10808211, -0.24971589]]), array([[ 0.20737646,  0.0594095 ,  0.47583402, -0.10515665, -0.28015267,\n",
      "         0.33943545,  0.08129643, -0.1986881 ,  0.21847144,  0.78746116,\n",
      "        -0.07780281,  0.22927295,  0.50186224,  0.02572546, -0.38718516,\n",
      "        -0.24941139,  0.04562685, -0.2687707 ,  0.24110054,  0.46226418],\n",
      "       [-0.29420734, -0.40445494,  0.03658173,  0.42226804, -0.10868308,\n",
      "         0.38628373,  1.04430603, -0.32311662,  0.89534725, -0.239021  ,\n",
      "        -0.02356554, -0.32790174, -0.46728332,  0.47874802,  0.71839233,\n",
      "        -0.4364474 ,  0.37641515,  0.26095716, -0.13722206,  0.0183526 ],\n",
      "       [ 0.60637152,  0.52528906, -0.07555885, -0.19003273,  0.86532255,\n",
      "        -0.38230079,  0.18323724, -0.2007993 ,  0.07220237,  0.53518198,\n",
      "        -0.13124011, -0.19916268,  0.06778697, -0.26935015, -0.29873806,\n",
      "         0.0220196 ,  0.2156715 ,  0.47440652, -0.2532562 ,  0.29377486]]), array([[ 0.5247758 ,  0.16668012,  0.13221365, -0.11268418,  0.20060404,\n",
      "        -0.18826253, -0.33256099, -0.23954851, -0.42446659, -0.17379839,\n",
      "         0.44753682,  0.31081456, -0.54327185, -0.09448645,  0.11949899,\n",
      "        -0.2668286 , -0.40249543, -0.34504962, -0.17607586,  0.26979318],\n",
      "       [ 0.33687763,  0.1572687 , -0.43251512,  0.25507792, -0.24376519,\n",
      "        -0.9065654 ,  0.25140381, -0.9569783 , -0.38035185,  0.16961397,\n",
      "         0.190872  ,  0.141005  , -0.04145261,  0.11371043,  0.29892053,\n",
      "         0.10764211, -0.43098545, -0.19707312, -0.06294781,  0.35250959],\n",
      "       [-0.25703141,  0.50819588, -0.03810704, -0.19881804, -0.00688799,\n",
      "        -0.46729925,  0.37129817, -0.1090353 ,  0.06478167,  0.14570156,\n",
      "         0.35610462,  0.04495516,  0.18005333, -0.23021555, -0.48323201,\n",
      "        -0.18868211,  0.50344061,  0.06630484, -0.8120724 ,  1.093134  ]]))\n"
     ]
    }
   ],
   "source": [
    "subs = new_alg.retrieve_entity_embeddings(test_subs)\n",
    "print(\"Length of embedding vector: {}, should equal number of dimensions of model assumption/2\".format(len(subs[0][0])))\n",
    "print(\"Subjects:\")\n",
    "print(subs)\n",
    "\n",
    "rels = new_alg.retrieve_relations_embeddings(test_rels)\n",
    "print(\"Relations:\")\n",
    "print(rels)\n",
    "\n",
    "objs = new_alg.retrieve_entity_embeddings(test_obs)\n",
    "print(\"Objects:\")\n",
    "print(objs)"
   ]
  },
  {
   "cell_type": "markdown",
   "metadata": {},
   "source": [
    "### Scoring Matrix for Test Data\n",
    "Length of each scoring vector (there are 3 for the above test data, one for each s,r,o triplet given) is equal to the number of entities in the vocabulary. For example, for FB15k this is 14,951. \n"
   ]
  },
  {
   "cell_type": "code",
   "execution_count": 10,
   "metadata": {},
   "outputs": [
    {
     "name": "stdout",
     "output_type": "stream",
     "text": [
      "[[ 0.26593932 -0.53132736 -0.61399813 ...  0.46215713  0.7114059\n",
      "   0.02068561]\n",
      " [ 1.17390789 -0.10383274 -1.00958987 ... -0.15033812  0.41185776\n",
      "   0.24936485]\n",
      " [ 0.48320306 -0.36659813  0.25440443 ...  0.16139368  0.35351311\n",
      "   0.04187984]]\n",
      "Number of test triplets in data: 3\n",
      "Length of a scoring vector: 14951\n"
     ]
    }
   ],
   "source": [
    "sm = algorithm.retrieve_scoring_matrix(test_subs, test_rels)\n",
    "print(sm)\n",
    "print(\"Number of test triplets in data: {}\".format(len(sm)))\n",
    "print(\"Length of a scoring vector: {}\".format(len(sm[0])))"
   ]
  },
  {
   "cell_type": "markdown",
   "metadata": {},
   "source": [
    "### Evaluation of Trained Model\n",
    "Produces evaluation metrics for model, whole text file is optional"
   ]
  },
  {
   "cell_type": "code",
   "execution_count": 11,
   "metadata": {},
   "outputs": [
    {
     "name": "stdout",
     "output_type": "stream",
     "text": [
      "Running model evaluation\n",
      "loading whole graph...\n",
      "Hits@1              : 0.06313588732203619\n",
      "Hits@1(filter)      : 0.11469248870003894\n",
      "Hits@10             : 0.21804269438472346\n",
      "Hits@10(filter)     : 0.29192835740041645\n",
      "Hits@3              : 0.11916168678370097\n",
      "Hits@3(filter)      : 0.19607760153036177\n",
      "MRR                 : 0.1144619222644371\n",
      "MRR(filter)         : 0.17654824253325588\n",
      "Hits@1              : 0.06313588732203619\n",
      "Hits@1(filter)      : 0.11469248870003894\n",
      "Hits@10             : 0.21804269438472346\n",
      "Hits@10(filter)     : 0.29192835740041645\n",
      "Hits@3              : 0.11916168678370097\n",
      "Hits@3(filter)      : 0.19607760153036177\n",
      "MRR                 : 0.1144619222644371\n",
      "MRR(filter)         : 0.17654824253325588\n"
     ]
    }
   ],
   "source": [
    "evaluate_file_names = {\"test\": INPUT_FILE_PATH + TEST_FILE_NAME,\n",
    "                       \"whole\": INPUT_FILE_PATH + WHOLE_FILE_NAME}  # Optional\n",
    "all_res = new_alg.evaluate(evaluate_file_names)\n",
    "for metric in sorted(all_res.keys()):\n",
    "    print('{:20s}: {}'.format(metric, all_res[metric]))"
   ]
  },
  {
   "cell_type": "code",
   "execution_count": null,
   "metadata": {},
   "outputs": [],
   "source": []
  }
 ],
 "metadata": {
  "celltoolbar": "Raw Cell Format",
  "kernelspec": {
   "display_name": "Python 3",
   "language": "python",
   "name": "python3"
  },
  "language_info": {
   "codemirror_mode": {
    "name": "ipython",
    "version": 3
   },
   "file_extension": ".py",
   "mimetype": "text/x-python",
   "name": "python",
   "nbconvert_exporter": "python",
   "pygments_lexer": "ipython3",
   "version": "3.7.3"
  }
 },
 "nbformat": 4,
 "nbformat_minor": 1
}
