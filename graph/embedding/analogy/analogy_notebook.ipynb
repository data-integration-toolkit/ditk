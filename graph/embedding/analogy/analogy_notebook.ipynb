{
 "cells": [
  {
   "cell_type": "markdown",
   "metadata": {},
   "source": [
    "# ANALOGY\n",
    "## Demonstration Jupyter Notebook"
   ]
  },
  {
   "cell_type": "code",
   "execution_count": 1,
   "metadata": {},
   "outputs": [],
   "source": [
    "import os\n",
    "import sys\n",
    "\n",
    "if os.name == 'nt':\n",
    "    module_path = os.path.abspath(os.path.join('..\\..\\..'))\n",
    "else:\n",
    "    module_path = os.path.abspath(os.path.join('../../..'))\n",
    "    \n",
    "if module_path not in sys.path:\n",
    "    sys.path.append(module_path)\n",
    "    \n",
    "from analogy import ANALOGY\n",
    "\n",
    "INPUT_FILE_PATH = \"D:\\\\USC\\\\CS548\\\\groupdat\\\\FB15k\\\\\"\n",
    "MODEL_FILE_PATH = INPUT_FILE_PATH\n",
    "\n",
    "TRAIN_FILE_NAME = \"train.txt\"\n",
    "VALIDATION_FILE_NAME = \"valid.txt\"\n",
    "WHOLE_FILE_NAME = \"whole.txt\"\n",
    "TEST_FILE_NAME = \"test.txt\"\n",
    "\n",
    "RELATIONS_FILE_NAME = \"relation2id.txt\"\n",
    "ENTITIES_FILE_NAME = \"entity2id.txt\"\n",
    "\n",
    "MODEL_FILE_NAME = \"analogy.mod\""
   ]
  },
  {
   "cell_type": "markdown",
   "metadata": {},
   "source": [
    "### Read Data Set - This must be run before executing learn_embeddings\n",
    "Validation and Whole Text files are optional"
   ]
  },
  {
   "cell_type": "code",
   "execution_count": 2,
   "metadata": {},
   "outputs": [
    {
     "name": "stderr",
     "output_type": "stream",
     "text": [
      "INFO:root:Input Files ...\n",
      "INFO:root:  entities -----> D:\\USC\\CS548\\groupdat\\FB15k\\entity2id.txt\n",
      "INFO:root: relations -----> D:\\USC\\CS548\\groupdat\\FB15k\\relation2id.txt\n",
      "INFO:root:     train -----> D:\\USC\\CS548\\groupdat\\FB15k\\train.txt\n",
      "INFO:root:Preparing data...\n",
      "INFO:root:   Done loading data...\n"
     ]
    }
   ],
   "source": [
    "algorithm = ANALOGY()\n",
    "\n",
    "train_file_names = {\"train\": INPUT_FILE_PATH + TRAIN_FILE_NAME,\n",
    "# Optional          \"valid\": INPUT_FILE_PATH + VALIDATION_FILE_NAME,\n",
    "# Optional          \"whole\": INPUT_FILE_PATH + WHOLE_FILE_NAME,\n",
    "                    \"relations\": INPUT_FILE_PATH + RELATIONS_FILE_NAME,\n",
    "                    \"entities\": INPUT_FILE_PATH + ENTITIES_FILE_NAME}\n",
    "\n",
    "algorithm.read_dataset(train_file_names)\n"
   ]
  },
  {
   "cell_type": "markdown",
   "metadata": {},
   "source": [
    "### Learn Embeddings - Data Set Must be Read First\n",
    "this should take several minutes per epoch if using the time minimizing hyper-parameters below and no filtered evaluation or validation"
   ]
  },
  {
   "cell_type": "code",
   "execution_count": 3,
   "metadata": {},
   "outputs": [
    {
     "name": "stderr",
     "output_type": "stream",
     "text": [
      "INFO:root:Learning Embeddings...\n",
      "INFO:root:Arguments...\n",
      "INFO:root:     batch -----> 128\n",
      "INFO:root:  cp_ratio -----> 0.5\n",
      "INFO:root:       dim -----> 40\n",
      "INFO:root:     epoch -----> 5\n",
      "INFO:root:  filtered -----> False\n",
      "INFO:root:  gradclip -----> 5\n",
      "INFO:root:    l2_reg -----> 0.001\n",
      "INFO:root:        lr -----> 0.05\n",
      "INFO:root:    margin -----> 1\n",
      "INFO:root:      mode -----> single\n",
      "INFO:root:     nbest -----> 10\n",
      "INFO:root:  negative -----> 1\n",
      "INFO:root:       opt -----> adagrad\n",
      "INFO:root: save_step -----> 30\n",
      "INFO:root:setup trainer...\n",
      "INFO:root:start 1 epoch\n",
      "INFO:root:training loss in 1 epoch: 2562.1351944025305\n",
      "INFO:root:training time in 1 epoch: 58.981436014175415\n",
      "INFO:root:start 2 epoch\n",
      "INFO:root:training loss in 2 epoch: 2134.851779754586\n",
      "INFO:root:training time in 2 epoch: 58.9695520401001\n",
      "INFO:root:start 3 epoch\n",
      "INFO:root:training loss in 3 epoch: 1819.3407248218366\n",
      "INFO:root:training time in 3 epoch: 58.697208881378174\n",
      "INFO:root:start 4 epoch\n",
      "INFO:root:training loss in 4 epoch: 1681.0978026582077\n",
      "INFO:root:training time in 4 epoch: 59.3742561340332\n",
      "INFO:root:start 5 epoch\n",
      "INFO:root:training loss in 5 epoch: 1576.806128952865\n",
      "INFO:root:training time in 5 epoch: 59.23407006263733\n",
      "INFO:root:done all\n"
     ]
    }
   ],
   "source": [
    "parameters = {\"mode\": 'single',\n",
    "              \"epoch\": 5,\n",
    "              \"batch\": 128,\n",
    "              \"lr\": 0.05,\n",
    "              \"dim\": 40,             # reduced these from 200 to save processing time\n",
    "              \"negative\": 1,         # reduced from 5 to save processing time\n",
    "              \"opt\": 'adagrad',\n",
    "              \"l2_reg\": 0.001,\n",
    "              \"gradclip\": 5,\n",
    "              'filtered': False}     # turned filtered output off to save processing time\n",
    " \n",
    "algorithm.learn_embeddings(parameters)\n"
   ]
  },
  {
   "cell_type": "markdown",
   "metadata": {},
   "source": [
    "### Save Model - Optional"
   ]
  },
  {
   "cell_type": "code",
   "execution_count": 4,
   "metadata": {},
   "outputs": [
    {
     "name": "stdout",
     "output_type": "stream",
     "text": [
      "Saving model: D:\\USC\\CS548\\groupdat\\FB15k\\analogy.mod\n",
      "  Model saved:\n"
     ]
    }
   ],
   "source": [
    "algorithm.save_model(MODEL_FILE_PATH + MODEL_FILE_NAME)\n"
   ]
  },
  {
   "cell_type": "markdown",
   "metadata": {},
   "source": [
    "### Load Model - Optional\n",
    "This can load a previously saved model for evaluation or other purposes, not required if current instance of ANALOGY has loaded a dataset and learned the embeddings for that dataset"
   ]
  },
  {
   "cell_type": "code",
   "execution_count": 5,
   "metadata": {},
   "outputs": [
    {
     "name": "stdout",
     "output_type": "stream",
     "text": [
      "Loading model: D:\\USC\\CS548\\groupdat\\FB15k\\analogy.mod\n",
      "   Model loaded\n"
     ]
    }
   ],
   "source": [
    "new_alg = ANALOGY()\n",
    "new_alg.load_model(MODEL_FILE_PATH + MODEL_FILE_NAME)\n"
   ]
  },
  {
   "cell_type": "markdown",
   "metadata": {},
   "source": [
    "### Add Some Test Data"
   ]
  },
  {
   "cell_type": "code",
   "execution_count": 6,
   "metadata": {},
   "outputs": [],
   "source": [
    "test_subs = ['/m/08mbj32', '/m/08mbj5d', '/m/08mg_b']\n",
    "test_rels = ['/location/statistical_region/religions./location/religion_percentage/religion',\n",
    "             '/military/military_conflict/combatants./military/military_combatant_group/combatants',\n",
    "             '/award/award_category/winners./award/award_honor/ceremony']\n",
    "test_obs = ['/m/0631_', '/m/0d060g', '/m/01bx35']\n"
   ]
  },
  {
   "cell_type": "markdown",
   "metadata": {},
   "source": [
    "### Print Embeddings for sub, rel, object\n",
    "Each entity & relation has 3 embeddings. Two embeddings are used for ComplEx part of Hybrid score measure (one a vector of real numbers and the other a vector of imaginary numbers). The other embedding is used for DistMult part of Hybrid score measure which only has a real number.  \n",
    "\n",
    "Output for each entity/relation retrieval function is tuple with each element having an array for the input list and its embedding, which is outputted as real part of complex number (ComplEx), imaginary part of complex number (Complex), real number (DistMult)  \n",
    "\n",
    "The length of each embedding vector will be equal to the number of dimensions used as a hyper-parameter to the training model divided by 2 (since complex"
   ]
  },
  {
   "cell_type": "code",
   "execution_count": 7,
   "metadata": {},
   "outputs": [
    {
     "name": "stdout",
     "output_type": "stream",
     "text": [
      "Length of embedding vector: 20, should equal number of dimensions of model assumption/2\n",
      "Subjects:\n",
      "(array([[-0.07120496, -0.19308252, -0.82269281, -0.04814764,  0.27663849,\n",
      "        -0.10169495, -0.01835223,  0.24143365, -0.9520605 ,  0.25659713,\n",
      "         0.73273715,  0.38150959,  0.24872684,  0.08031953, -0.09623907,\n",
      "         0.35290379, -0.10382456,  1.15660642, -0.55745059, -0.62715406],\n",
      "       [-0.36286615,  0.4374186 , -0.26852091,  0.14522091,  0.01864142,\n",
      "         0.28335949, -0.8334753 , -0.10990934, -0.36574102,  0.81517703,\n",
      "        -0.12858646,  0.04630231,  0.32930097, -0.34123059, -0.24332062,\n",
      "        -0.51826207,  0.06260657,  0.91959568, -0.4766628 , -0.41319964],\n",
      "       [-0.26112736, -0.07409245,  0.33418486,  0.0610582 ,  0.37208818,\n",
      "        -0.28557152,  0.6751504 ,  0.13817221,  0.09367402,  0.31974399,\n",
      "        -0.2500653 ,  0.23273915,  0.39676781, -0.04312702, -0.16663712,\n",
      "         0.04960696, -0.32102902,  0.34021685,  0.32136055,  0.19286348]]), array([[ 0.01399415,  0.21893397,  0.32013894,  0.23836043,  0.24627551,\n",
      "         0.29822907,  0.2394471 , -0.13113507, -1.02315927, -0.73564335,\n",
      "         0.11027682,  0.13564682,  0.54661764,  0.21110644,  0.02531215,\n",
      "         0.30493849,  0.03437208, -0.71626289,  0.10263875, -0.45753283],\n",
      "       [-0.25132649,  0.75600542, -0.36081845, -0.2153164 , -0.11315783,\n",
      "        -0.03864039, -0.17340419,  0.09875534, -1.22281635, -0.3959689 ,\n",
      "        -0.23591598,  0.64254681,  0.72348844,  0.13376404, -0.11741039,\n",
      "         1.00986268,  0.02233409,  0.02336021,  0.1637903 , -0.63660143],\n",
      "       [ 0.12648994, -0.71840121,  0.37315863,  0.07051582, -0.02152814,\n",
      "        -0.01358028,  0.15519535, -0.27523173,  0.17945469,  0.16608563,\n",
      "         0.29599129,  0.18073374, -0.02366842,  0.06218242, -0.007762  ,\n",
      "        -0.52000199, -0.66838122,  0.0543681 ,  0.24734459, -0.1020966 ]]), array([[ 0.64220184, -0.09217502, -0.16267463, -0.12095882, -0.42268016,\n",
      "        -0.57271386, -0.06833376,  0.00173323,  0.72154414, -0.00957666,\n",
      "         0.06438962, -0.46194947, -0.72823748,  0.66569623, -0.36891327,\n",
      "        -0.05151401, -0.54748809, -0.27715084, -0.79345544, -0.09444408],\n",
      "       [ 1.30757339, -0.13090132, -0.08710653, -0.22303663, -0.26818066,\n",
      "         0.2296115 ,  0.04044686,  0.01165747,  0.64875334,  0.77566642,\n",
      "         0.05853506, -0.35070406, -1.15347255,  0.2757649 , -0.16430475,\n",
      "        -0.18006516, -0.30875896,  0.31656614, -0.10311181,  0.01781914],\n",
      "       [ 0.25439195, -0.48270999, -0.24055663, -0.61288128, -0.08674716,\n",
      "         0.46228168,  0.15982903,  0.07204422, -0.24766181,  0.16617174,\n",
      "        -0.07945813, -0.27270067, -0.01884234,  0.02102673,  0.28472   ,\n",
      "        -0.01330817,  0.22428883, -0.04726101,  0.14808618,  0.29380861]]))\n",
      "Relations:\n",
      "(array([[-0.19087032, -0.43541257, -0.20911895, -0.17387476, -0.02387079,\n",
      "        -0.02706761,  0.13746432,  0.38901262, -0.05425087, -0.05372695,\n",
      "         0.13069231,  0.27848534,  0.13139971, -0.34581555,  0.2422484 ,\n",
      "        -0.17631624, -0.25624636,  0.16661549, -0.03261884, -0.55397131],\n",
      "       [ 0.26429104,  0.28331393, -0.46138059,  0.31239383,  0.07014562,\n",
      "         0.43834867,  0.24016555, -0.22780319, -0.09266239, -0.1371255 ,\n",
      "         0.01923046,  0.19838703,  0.28342502, -0.21428289,  0.30503794,\n",
      "        -0.12567558, -0.35621724,  0.12471723,  0.20271652, -0.06139069],\n",
      "       [ 0.57013482,  0.11950227, -0.20448066,  0.20123387, -0.25414265,\n",
      "        -0.01914823, -0.39439882,  0.13722684, -0.08555585, -0.09181148,\n",
      "        -0.09440908,  0.29097913, -0.429406  , -0.1251645 ,  0.19568479,\n",
      "         0.21241086, -0.22465094,  0.18180765, -0.29644185,  0.04473606]]), array([[-0.11878852,  0.25482776, -0.02278953,  0.01757907, -0.09897095,\n",
      "         0.31042482,  0.04573967,  0.39918554, -0.11122418,  0.09310224,\n",
      "         0.4768635 ,  0.19569263,  0.30640121, -0.14244036, -0.30378294,\n",
      "        -0.07893984,  0.1257571 ,  0.32206647, -0.12855799, -0.34880903],\n",
      "       [ 0.21358042, -0.29383887, -0.24799498, -0.24433433,  0.08948018,\n",
      "        -0.3225412 ,  0.01245791, -0.15314067, -0.27825805,  0.23425917,\n",
      "         0.04528541, -0.0299065 , -0.53556891, -0.03349814, -0.34805295,\n",
      "        -0.19793064,  0.22644377, -0.00433093, -0.07128482, -0.49481729],\n",
      "       [-0.21099951,  0.47389512,  0.19205919, -0.46131442,  0.42585481,\n",
      "        -0.1520834 ,  0.46777553, -0.21643963, -0.25858579, -0.36021526,\n",
      "        -0.13361882,  0.02354509, -0.06234123,  0.34553337, -0.00114553,\n",
      "        -0.30715803,  0.05528983,  0.09145742,  0.19746155,  0.58284216]]), array([[ 0.04110335,  0.27148544, -0.02420212, -0.08924493, -0.12758419,\n",
      "        -0.29017993, -0.17921337,  0.15816336, -0.34035652, -0.06292031,\n",
      "         0.05194075,  0.30858111,  0.07773868,  0.34384457, -0.13851703,\n",
      "        -0.06963272, -0.07667112, -0.46229612,  0.00194388, -0.74464842],\n",
      "       [ 0.07798705,  0.18691593,  0.13742152,  0.2177581 ,  0.35469013,\n",
      "         0.43322038,  0.19148009,  0.25381684, -0.22125875, -0.11648073,\n",
      "         0.17390202, -0.02420143, -0.02626932, -0.06938018, -0.4106555 ,\n",
      "        -0.14338735,  0.4797927 , -0.46127562, -0.22133107, -0.17967612],\n",
      "       [ 0.3670453 , -0.92311968,  0.23150929, -0.71245735, -0.06243316,\n",
      "         0.34538603, -0.0652191 , -0.16165176,  0.33087804, -0.06764598,\n",
      "         0.40910728,  0.27009705, -0.47081597,  0.29057394,  0.44937625,\n",
      "        -0.03126127,  0.61734976, -0.00312166, -0.35327077, -0.48681709]]))\n",
      "Objects:\n",
      "(array([[-0.1804803 , -0.27097495,  0.14323511, -0.15405699,  0.00619469,\n",
      "        -0.45968342,  0.04355192,  0.45635914, -0.43438355,  0.18996955,\n",
      "         0.18310348,  0.1063108 , -0.17571297, -0.57626437,  0.30283892,\n",
      "        -0.26541844, -0.02336822,  0.19696375,  0.16783682, -0.3409906 ],\n",
      "       [ 0.54368436, -0.05589748, -0.01067811,  0.01496562,  0.59774553,\n",
      "         0.65199562, -0.38379558, -0.29804706, -0.66669552, -0.40598491,\n",
      "         0.65343406, -0.72433599, -0.10169096,  0.0062533 ,  0.68147671,\n",
      "        -0.49708373,  0.57212954,  0.23724041,  0.37963874,  0.90778696],\n",
      "       [-0.44521596,  0.3156304 , -0.00236823,  0.18422911, -0.45693845,\n",
      "         0.98706019, -0.1562172 , -0.40755418,  0.51923082,  0.05744775,\n",
      "        -0.22107086,  0.02799937,  0.24383114, -0.2529822 ,  0.21969076,\n",
      "        -0.15054291,  0.0379348 , -0.07756689, -0.13342631, -0.2960708 ]]), array([[ 0.24652227,  0.04226731,  0.5616409 , -0.10772642, -0.29832253,\n",
      "         0.39822614,  0.0633883 , -0.21160188,  0.20685552,  0.85930237,\n",
      "        -0.12116896,  0.11395601,  0.60490616, -0.0240843 , -0.40906176,\n",
      "        -0.26767998, -0.01260891, -0.25284298,  0.04175208,  0.50561342],\n",
      "       [-0.31034285, -0.49210402,  0.06226761,  0.54352543, -0.09190669,\n",
      "         0.49595663,  1.23565771, -0.33996272,  0.97433023, -0.25420949,\n",
      "         0.03498715, -0.38399825, -0.53414989,  0.45020978,  0.68342442,\n",
      "        -0.53285841,  0.47447939,  0.28618204, -0.17527354,  0.10478425],\n",
      "       [ 0.70800745,  0.58408781, -0.07337533, -0.23888874,  0.87745611,\n",
      "        -0.38379174,  0.16672476, -0.22285173,  0.13795266,  0.64076073,\n",
      "        -0.14179864, -0.24079851,  0.09626932, -0.15375951, -0.40301527,\n",
      "         0.01222489,  0.21948621,  0.52005364, -0.28685957,  0.23189863]]), array([[ 0.67136962,  0.18779151,  0.2666181 , -0.02917718,  0.15901276,\n",
      "        -0.21121414, -0.4043268 , -0.2148686 , -0.39487049, -0.2194375 ,\n",
      "         0.56766078,  0.28117021, -0.52966076, -0.09273709,  0.17650738,\n",
      "        -0.23730443, -0.41217716, -0.38213668, -0.05249304,  0.26129535],\n",
      "       [ 0.27143949,  0.04960162, -0.63513503,  0.3518676 , -0.2965031 ,\n",
      "        -1.01009727,  0.27830953, -0.9853626 , -0.46005801,  0.15877683,\n",
      "         0.15050439,  0.03724921, -0.06762543,  0.26618147,  0.44700953,\n",
      "         0.08930841, -0.48277102, -0.28929192, -0.11711321,  0.40419131],\n",
      "       [-0.29955972,  0.55357711,  0.0156894 , -0.25343226, -0.03247681,\n",
      "        -0.46936891,  0.3548198 , -0.01651629,  0.10164471,  0.13671889,\n",
      "         0.36861336,  0.01924981,  0.24257164, -0.23823685, -0.4461085 ,\n",
      "        -0.10560733,  0.54609506, -0.00782485, -0.77747442,  1.00409707]]))\n"
     ]
    }
   ],
   "source": [
    "subs = new_alg.retrieve_entity_embeddings(test_subs)\n",
    "print(\"Length of embedding vector: {}, should equal number of dimensions of model assumption/2\".format(len(subs[0][0])))\n",
    "print(\"Subjects:\")\n",
    "print(subs)\n",
    "\n",
    "rels = new_alg.retrieve_relations_embeddings(test_rels)\n",
    "print(\"Relations:\")\n",
    "print(rels)\n",
    "\n",
    "objs = new_alg.retrieve_entity_embeddings(test_obs)\n",
    "print(\"Objects:\")\n",
    "print(objs)"
   ]
  },
  {
   "cell_type": "markdown",
   "metadata": {},
   "source": [
    "### Scoring Matrix for Test Data\n",
    "Length of each scoring vector (there are 3 for the above test data, one for each s,r,o triplet given) is equal to the number of entities in the vocabulary. For example, for FB15k this is 14,951. \n"
   ]
  },
  {
   "cell_type": "code",
   "execution_count": 8,
   "metadata": {},
   "outputs": [
    {
     "name": "stdout",
     "output_type": "stream",
     "text": [
      "[[ 0.53771241 -0.91870999 -0.71549855 ...  0.6032623   0.88743655\n",
      "  -0.03763333]\n",
      " [ 1.61292955 -0.28554807 -1.56477576 ... -0.31596579  0.39535818\n",
      "   0.21878598]\n",
      " [ 0.58576572 -0.25167187  0.17536631 ...  0.28545742  0.26014282\n",
      "   0.04020717]]\n",
      "Number of test triplets in data: 3\n",
      "Length of a scoring vector: 14951\n"
     ]
    }
   ],
   "source": [
    "sm = algorithm.retrieve_scoring_matrix(test_subs, test_rels)\n",
    "print(sm)\n",
    "print(\"Number of test triplets in data: {}\".format(len(sm)))\n",
    "print(\"Length of a scoring vector: {}\".format(len(sm[0])))"
   ]
  },
  {
   "cell_type": "markdown",
   "metadata": {},
   "source": [
    "### Evaluation of Trained Model\n",
    "Produces evaluation metrics for model, whole text file is optional"
   ]
  },
  {
   "cell_type": "code",
   "execution_count": 9,
   "metadata": {},
   "outputs": [
    {
     "name": "stdout",
     "output_type": "stream",
     "text": [
      "Running model evaluation\n",
      "loading whole graph...\n",
      "Hits@1              : 0.06493033806774898\n",
      "Hits@1(filter)      : 0.11229706624231857\n",
      "Hits@10             : 0.23489529549186572\n",
      "Hits@10(filter)     : 0.3098474716866144\n",
      "Hits@3              : 0.12752450440994736\n",
      "Hits@3(filter)      : 0.20241742987252628\n",
      "MRR                 : 0.12134882599117944\n",
      "MRR(filter)         : 0.1809578329476909\n"
     ]
    }
   ],
   "source": [
    "evaluate_file_names = {\"test\": INPUT_FILE_PATH + TEST_FILE_NAME,\n",
    "                       \"whole\": INPUT_FILE_PATH + WHOLE_FILE_NAME}  #  Optional\n",
    "all_res = new_alg.evaluate(evaluate_file_names)\n",
    "for metric in sorted(all_res.keys()):\n",
    "    print('{:20s}: {}'.format(metric, all_res[metric]))"
   ]
  },
  {
   "cell_type": "code",
   "execution_count": null,
   "metadata": {},
   "outputs": [],
   "source": []
  }
 ],
 "metadata": {
  "celltoolbar": "Raw Cell Format",
  "kernelspec": {
   "display_name": "Python 3",
   "language": "python",
   "name": "python3"
  },
  "language_info": {
   "codemirror_mode": {
    "name": "ipython",
    "version": 3
   },
   "file_extension": ".py",
   "mimetype": "text/x-python",
   "name": "python",
   "nbconvert_exporter": "python",
   "pygments_lexer": "ipython3",
   "version": "3.7.3"
  }
 },
 "nbformat": 4,
 "nbformat_minor": 1
}
