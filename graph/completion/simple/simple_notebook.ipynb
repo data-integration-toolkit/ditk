{
 "cells": [
  {
   "cell_type": "code",
   "execution_count": 1,
   "metadata": {},
   "outputs": [
    {
     "name": "stdout",
     "output_type": "stream",
     "text": [
      "# training instances: 483142\n",
      "# testing instances: 50000\n",
      "# validation instances: 59071\n"
     ]
    }
   ],
   "source": [
    "from simple import SimplE\n",
    "\n",
    "s = SimplE(\"../data/\")\n",
    "datasets = [\"fb15k\", \"wn18\"]\n",
    "training, test, valid = s.read_dataset(datasets[0])\n",
    "\n",
    "print(\"# training instances:\", len(training))\n",
    "print(\"# testing instances:\", len(test))\n",
    "print(\"# validation instances:\", len(valid))"
   ]
  },
  {
   "cell_type": "code",
   "execution_count": 2,
   "metadata": {},
   "outputs": [
    {
     "name": "stdout",
     "output_type": "stream",
     "text": [
      "[!] Training...\n",
      "342 14951 1345\n",
      "Loss in iteration 1 = 1249791.7738886822\n",
      "Loss in iteration 2 = 903511.5030684706\n",
      "Loss in iteration 3 = 734372.8323312476\n",
      "Loss in iteration 4 = 504085.6699858529\n",
      "Loss in iteration 5 = 340025.17531214067\n",
      "INFO:tensorflow:SimplE_ignr_weights/fb15k/5.ckpt is not in all_model_checkpoint_paths. Manually adding it.\n",
      "Loss in iteration 6 = 256238.46160684712\n",
      "Loss in iteration 7 = 210900.7743889496\n",
      "Loss in iteration 8 = 181680.58872698632\n",
      "Loss in iteration 9 = 162513.99547856182\n",
      "Loss in iteration 10 = 147842.16732926422\n",
      "INFO:tensorflow:SimplE_ignr_weights/fb15k/10.ckpt is not in all_model_checkpoint_paths. Manually adding it.\n",
      "Loss in iteration 11 = 137320.3955820432\n",
      "Loss in iteration 12 = 128382.42436574418\n",
      "Loss in iteration 13 = 123287.95163644856\n",
      "Loss in iteration 14 = 116537.43150957416\n",
      "Loss in iteration 15 = 112571.97497152741\n",
      "INFO:tensorflow:SimplE_ignr_weights/fb15k/15.ckpt is not in all_model_checkpoint_paths. Manually adding it.\n",
      "Loss in iteration 16 = 108296.63045856767\n",
      "Loss in iteration 17 = 104670.9203651073\n",
      "Loss in iteration 18 = 102826.32415467456\n",
      "Loss in iteration 19 = 98191.77661530129\n",
      "Loss in iteration 20 = 96301.51519817553\n",
      "INFO:tensorflow:SimplE_ignr_weights/fb15k/20.ckpt is not in all_model_checkpoint_paths. Manually adding it.\n",
      "[!] Predicting links...\n",
      "INFO:tensorflow:Restoring parameters from SimplE_ignr_weights/fb15k/20.ckpt\n",
      "0.004304662818713265 0.00224 0.00479 0.00885 0.006682892568708106 0.00443 0.00756 0.01126\n",
      "# newly predicted triples  145556\n"
     ]
    }
   ],
   "source": [
    "s.train(training)\n",
    "new_triples = s.predict(test)\n",
    "\n",
    "print(\"# newly predicted triples \", len(new_triples))"
   ]
  },
  {
   "cell_type": "code",
   "execution_count": 3,
   "metadata": {},
   "outputs": [
    {
     "name": "stdout",
     "output_type": "stream",
     "text": [
      "[!] Evaluating...\n",
      "[!] Predicting links...\n",
      "INFO:tensorflow:Restoring parameters from SimplE_ignr_weights/fb15k/20.ckpt\n",
      "0.003594748437264507 0.0019383453809822078 0.003935941494134177 0.0073047688375006345 0.00616437507982066 0.004156015642193293 0.0070423727378916895 0.0101741971525791\n",
      "{'mrr': 0.00616437507982066, 'hits10': 0.0101741971525791}\n"
     ]
    }
   ],
   "source": [
    "print(s.evaluate(valid, [\"mrr\", \"hits10\"]))"
   ]
  },
  {
   "cell_type": "code",
   "execution_count": null,
   "metadata": {},
   "outputs": [],
   "source": []
  }
 ],
 "metadata": {
  "kernelspec": {
   "display_name": "Python 3",
   "language": "python",
   "name": "python3"
  },
  "language_info": {
   "codemirror_mode": {
    "name": "ipython",
    "version": 3
   },
   "file_extension": ".py",
   "mimetype": "text/x-python",
   "name": "python",
   "nbconvert_exporter": "python",
   "pygments_lexer": "ipython3",
   "version": "3.6.3"
  }
 },
 "nbformat": 4,
 "nbformat_minor": 2
}
