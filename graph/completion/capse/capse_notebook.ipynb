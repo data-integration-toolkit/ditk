{
 "cells": [
  {
   "cell_type": "code",
   "execution_count": 1,
   "metadata": {},
   "outputs": [
    {
     "name": "stdout",
     "output_type": "stream",
     "text": [
      "Loading data... finished!\n",
      "# training instances: 483142\n",
      "# testing instances: 59071\n",
      "# validation instances: 50000\n"
     ]
    }
   ],
   "source": [
    "from capse import CapsE\n",
    "\n",
    "s = CapsE(\"../data/\")\n",
    "datasets = [\"fb15k\", \"wn18\"]\n",
    "training, test, valid = s.read_dataset(datasets[0])\n",
    "\n",
    "print(\"# training instances:\", len(training))\n",
    "print(\"# testing instances:\", len(test))\n",
    "print(\"# validation instances:\", len(valid))"
   ]
  },
  {
   "cell_type": "code",
   "execution_count": 2,
   "metadata": {},
   "outputs": [
    {
     "name": "stdout",
     "output_type": "stream",
     "text": [
      "[!] Training model...\n",
      "Using square softplus loss\n",
      "INFO:tensorflow:Seting up the main structure\n",
      "Epoch: 0\n",
      "Loss in iteration 0 = 0.47293842\n",
      "Epoch: 1\n",
      "Loss in iteration 1 = 0.46914542\n",
      "Epoch: 2\n",
      "Loss in iteration 2 = 0.46450883\n",
      "[!] Predicting links...\n",
      "Using square softplus loss\n",
      "INFO:tensorflow:Seting up the main structure\n",
      "INFO:tensorflow:Restoring parameters from C:\\Users\\Evan\\Documents\\Code\\project\\Refactor\\capse_refactor\\runs_CapsE\\2783351075168\\checkpoints\\model-2\n",
      "# newly predicted triples  1507818\n"
     ]
    }
   ],
   "source": [
    "s.train(training)\n",
    "new_triples = s.predict(test)\n",
    "\n",
    "print(\"# newly predicted triples \", len(new_triples))"
   ]
  },
  {
   "cell_type": "code",
   "execution_count": 6,
   "metadata": {},
   "outputs": [
    {
     "name": "stdout",
     "output_type": "stream",
     "text": [
      "[!] Evaluating model...\n",
      "[!] Predicting links...\n",
      "Using square softplus loss\n",
      "INFO:tensorflow:Seting up the main structure\n",
      "INFO:tensorflow:Restoring parameters from C:\\Users\\Evan\\Documents\\Code\\project\\Refactor\\capse_refactor\\runs_CapsE\\2783351075168\\checkpoints\\model-2\n",
      "{'mrr': 0.07239600844832159, 'hits10': 5.0}\n"
     ]
    }
   ],
   "source": [
    "print(s.evaluate(valid, [\"mrr\", \"hits10\"]))"
   ]
  },
  {
   "cell_type": "code",
   "execution_count": null,
   "metadata": {},
   "outputs": [],
   "source": []
  }
 ],
 "metadata": {
  "kernelspec": {
   "display_name": "Python 3",
   "language": "python",
   "name": "python3"
  },
  "language_info": {
   "codemirror_mode": {
    "name": "ipython",
    "version": 3
   },
   "file_extension": ".py",
   "mimetype": "text/x-python",
   "name": "python",
   "nbconvert_exporter": "python",
   "pygments_lexer": "ipython3",
   "version": "3.6.3"
  }
 },
 "nbformat": 4,
 "nbformat_minor": 2
}
