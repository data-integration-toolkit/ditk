{
 "cells": [
  {
   "cell_type": "code",
   "execution_count": null,
   "metadata": {},
   "outputs": [],
   "source": [
    "import findspark\n",
    "findspark.init()\n",
    "import pyspark\n",
    "sc = pyspark.SparkContext()\n",
    "sqlContext = pyspark.sql.SQLContext(sc)"
   ]
  },
  {
   "cell_type": "code",
   "execution_count": null,
   "metadata": {},
   "outputs": [],
   "source": [
    "import os"
   ]
  },
  {
   "cell_type": "code",
   "execution_count": null,
   "metadata": {},
   "outputs": [],
   "source": [
    "from sift.corpora import wikipedia, wikidata\n",
    "from sift.models import text, links\n",
    "Conll_path = \"/data/conll2003/\"\n",
    "base_path = '/data/wikipedia/20151002/'"
   ]
  },
  {
   "cell_type": "code",
   "execution_count": null,
   "metadata": {},
   "outputs": [],
   "source": [
    "corpus = wikipedia.WikipediaCorpus()(sc, base_path + 'dump')\n",
    "redirects = wikipedia.WikipediaRedirects()(corpus)\n",
    "\n",
    "docs = ConllPrepare(Conll_path, \"train\", redirects)"
   ]
  },
  {
   "cell_type": "code",
   "execution_count": null,
   "metadata": {},
   "outputs": [],
   "source": [
    "docs.take(1)"
   ]
  },
  {
   "cell_type": "code",
   "execution_count": null,
   "metadata": {},
   "outputs": [],
   "source": [
    "wikipedia_pfx = 'en.wikipedia.org/wiki/'"
   ]
  },
  {
   "cell_type": "code",
   "execution_count": null,
   "metadata": {},
   "outputs": [],
   "source": [
    "ec_model = links\\\n",
    "    .EntityCounts(min_count=5, filter_target=wikipedia_pfx)\\\n",
    "    .build(docs)\\\n",
    "    .map(links.EntityCounts.format_item)"
   ]
  },
  {
   "cell_type": "code",
   "execution_count": null,
   "metadata": {},
   "outputs": [],
   "source": [
    "enc_model = links\\\n",
    "    .EntityNameCounts(lowercase=True, filter_target=wikipedia_pfx)\\\n",
    "    .build(docs)\\\n",
    "    .filter(lambda (name, counts): sum(counts.itervalues()) > 1)\\\n",
    "    .map(links.EntityNameCounts.format_item)"
   ]
  },
  {
   "cell_type": "code",
   "execution_count": null,
   "metadata": {},
   "outputs": [],
   "source": [
    "ec_model.take(1)"
   ]
  },
  {
   "cell_type": "code",
   "execution_count": null,
   "metadata": {},
   "outputs": [],
   "source": [
    "from nel.model import data\n",
    "from nel.model.store import file"
   ]
  },
  {
   "cell_type": "code",
   "execution_count": null,
   "metadata": {},
   "outputs": [],
   "source": [
    "os.environ['NEL_DATASTORE_URI'] = 'file:///data0/nel/'"
   ]
  },
  {
   "cell_type": "code",
   "execution_count": null,
   "metadata": {},
   "outputs": [],
   "source": [
    "# we can use model.toLocalIterator if models don't fit in memory"
   ]
  },
  {
   "cell_type": "code",
   "execution_count": null,
   "metadata": {},
   "outputs": [],
   "source": [
    "data.ObjectStore\\\n",
    "    .Get('models:ecounts[wikipedia]')\\\n",
    "    .save_many(ec_model.collect())"
   ]
  },
  {
   "cell_type": "code",
   "execution_count": null,
   "metadata": {},
   "outputs": [],
   "source": [
    "data.ObjectStore\\\n",
    "    .Get('models:necounts[wikipedia]')\\\n",
    "    .save_many(enc_model.collect())"
   ]
  },
  {
   "cell_type": "code",
   "execution_count": null,
   "metadata": {},
   "outputs": [],
   "source": [
    "from nel.doc import Doc"
   ]
  },
  {
   "cell_type": "code",
   "execution_count": null,
   "metadata": {},
   "outputs": [],
   "source": [
    "from nel.harness.format import from_sift"
   ]
  },
  {
   "cell_type": "code",
   "execution_count": null,
   "metadata": {},
   "outputs": [],
   "source": [
    "from nel.process.pipeline import Pipeline\n",
    "from nel.process.candidates import NameCounts\n",
    "from nel.features.probability import EntityProbability, NameProbability"
   ]
  },
  {
   "cell_type": "code",
   "execution_count": null,
   "metadata": {},
   "outputs": [],
   "source": [
    "candidate_generation = [\n",
    "    NameCounts('wikipedia', 10)\n",
    "]\n",
    "feature_extraction = [\n",
    "    EntityProbability('wikipedia'),\n",
    "    NameProbability('wikipedia')\n",
    "]"
   ]
  },
  {
   "cell_type": "code",
   "execution_count": null,
   "metadata": {},
   "outputs": [],
   "source": [
    "training_pipeline = Pipeline(candidate_generation + feature_extraction)"
   ]
  },
  {
   "cell_type": "code",
   "execution_count": null,
   "metadata": {},
   "outputs": [],
   "source": [
    "training_docs = [from_sift(doc) for doc in docs.takeSample(False, 100)]"
   ]
  },
  {
   "cell_type": "code",
   "execution_count": null,
   "metadata": {},
   "outputs": [],
   "source": [
    "train = [training_pipeline(doc) for doc in training_docs]"
   ]
  },
  {
   "cell_type": "code",
   "execution_count": null,
   "metadata": {},
   "outputs": [],
   "source": [
    "from nel.learn import ranking\n",
    "from nel.features import meta\n",
    "from nel.model import resolution\n",
    "from nel.process import resolve"
   ]
  },
  {
   "cell_type": "code",
   "execution_count": null,
   "metadata": {},
   "outputs": [],
   "source": [
    "ranker = ranking.TrainLinearRanker(name='ranker', features=[f.id for f in feature_extraction])(train)"
   ]
  },
  {
   "cell_type": "code",
   "execution_count": null,
   "metadata": {},
   "outputs": [],
   "source": [
    "classifier_feature = meta.ClassifierScore(ranker)\n",
    "linking = [\n",
    "    classifier_feature,\n",
    "    resolve.FeatureRankResolver(classifier_feature.id)\n",
    "]"
   ]
  },
  {
   "cell_type": "code",
   "execution_count": null,
   "metadata": {},
   "outputs": [],
   "source": [
    "linking_pipeline = Pipeline(candidate_generation + feature_extraction + linking)"
   ]
  },
  {
   "cell_type": "code",
   "execution_count": null,
   "metadata": {},
   "outputs": [],
   "source": [
    "sample = [from_sift(doc) for doc in docs.takeSample(False, 10)]"
   ]
  },
  {
   "cell_type": "code",
   "execution_count": null,
   "metadata": {},
   "outputs": [],
   "source": [
    "# clear existing links\n",
    "for doc in sample:\n",
    "    for chain in doc.chains:\n",
    "        chain.resolution = None\n",
    "        for mention in chain.mentions:\n",
    "            mention.resolution = None"
   ]
  },
  {
   "cell_type": "code",
   "execution_count": null,
   "metadata": {},
   "outputs": [],
   "source": [
    "linked_sample = [linking_pipeline(doc) for doc in sample]"
   ]
  },
  {
   "cell_type": "code",
   "execution_count": null,
   "metadata": {},
   "outputs": [],
   "source": [
    "[d.id for d in linked_sample]"
   ]
  },
  {
   "cell_type": "code",
   "execution_count": null,
   "metadata": {},
   "outputs": [],
   "source": [
    "sample[0].chains[0].resolution.id"
   ]
  }
 ],
 "metadata": {
  "kernelspec": {
   "display_name": "nel-master",
   "language": "python",
   "name": "nel-master"
  },
  "language_info": {
   "codemirror_mode": {
    "name": "ipython",
    "version": 2
   },
   "file_extension": ".py",
   "mimetype": "text/x-python",
   "name": "python",
   "nbconvert_exporter": "python",
   "pygments_lexer": "ipython2",
   "version": "2.7.11"
  }
 },
 "nbformat": 4,
 "nbformat_minor": 1
}
