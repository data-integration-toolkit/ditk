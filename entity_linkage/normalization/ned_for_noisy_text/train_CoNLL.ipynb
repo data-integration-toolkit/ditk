{
 "cells": [
  {
   "cell_type": "code",
   "execution_count": null,
   "metadata": {},
   "outputs": [],
   "source": [
    "from WikilinksIterator import WikilinksNewIterator\n",
    "from DbWrapper import WikipediaDbWrapper\n",
    "\n",
    "input_dir = \"data/enwiki/extracted\"\n",
    "output_dir = \"data/intralinks/all\"\n",
    "db_user = \"user\"\n",
    "db_pass = \"passcode\"\n",
    "db_schema = \"NEDforNoisyText\"\n",
    "db_host = \"localhost\"\n",
    "wikiDB = WikipediaDbWrapper(user=db_user, password=db_pass, database=db_schema, host=db_host)\n",
    "\n",
    "writer = wlink_writer(output_dir + '_tmp')\n",
    "for mention, target, left_context, right_context in wikipedia_crossref_iterator(input_dir):\n",
    "    wlink = dict()\n",
    "    wlink['wikiurl'] = target\n",
    "    wlink['word'] = mention\n",
    "    wlink['left_context'] = left_context\n",
    "    wlink['right_context'] = right_context\n",
    "    writer.save(wlink)\n",
    "writer.finalize()\n",
    "\n",
    "it = WikilinksNewIterator(output_dir + '_tmp', resolveIds=True, db=wikiDB)\n",
    "writer = wlink_writer(output_dir)\n",
    "for wlink in it.jsons():\n",
    "    writer.save(wlink)\n",
    "writer.finalize()"
   ]
  },
  {
   "cell_type": "code",
   "execution_count": null,
   "metadata": {},
   "outputs": [],
   "source": [
    "from WikilinksIterator import WikilinksNewIterator\n",
    "import os\n",
    "from PPRforNED import *\n",
    "from DbWrapper import WikipediaDbWrapper\n",
    "\n",
    "wikipedia_corpus_dir = 'data/intralinks/all'\n",
    "\n",
    "print 'calculate wikipedia corpus statistics'\n",
    "it = WikilinksNewIterator(wikipedia_corpus_dir)\n",
    "stats = WikilinksStatistics(it)\n",
    "stats.calcStatistics()\n",
    "stats.saveToFile(os.path.join(wikipedia_corpus_dir, 'all_stats'))\n",
    "stats.printSomeStats()\n",
    "\n",
    "print 'calculate PPRforNED stats'\n",
    "ppr_itr = sPPRIterator(path='data/PPRforNED/AIDA_candidates')\n",
    "ppr_stats = PPRStatistics(ppr_itr)\n",
    "wikiDB = WikipediaDbWrapper(user=db_user, password=db_pass, database=db_schema, host=db_host)\n",
    "ppr_stats.calcStatistics(wikiDB)\n",
    "print len(ppr_stats.conceptNames)\n",
    "ppr_stats.saveToFile('/data/PPRforNED/ppr_stats')"
   ]
  },
  {
   "cell_type": "code",
   "execution_count": null,
   "metadata": {},
   "outputs": [],
   "source": [
    "experiment_path = \"experiments/pretrainWikipedia/experiment.conf\"\n",
    "experiment = Experiment(db_user, db_pass, db_schema, db_host, experiment_path)\n",
    "for x in xrange(8):\n",
    "    trained_mentions = experiment.train(model_name='.'+str(x))\n",
    "    experiment.evaluate()"
   ]
  },
  {
   "cell_type": "code",
   "execution_count": null,
   "metadata": {},
   "outputs": [],
   "source": [
    "experiment_path = \"experiments/CoNLL/experiment.conf\"\n",
    "experiment = Experiment(db_user, db_pass, db_schema, db_host, experiment_path)\n",
    "for x in xrange(8):\n",
    "    trained_mentions = experiment.train(model_name='.'+str(x))\n",
    "    experiment.evaluate()"
   ]
  }
 ],
 "metadata": {
  "kernelspec": {
   "display_name": "Python 3",
   "language": "python",
   "name": "python3"
  },
  "language_info": {
   "codemirror_mode": {
    "name": "ipython",
    "version": 3
   },
   "file_extension": ".py",
   "mimetype": "text/x-python",
   "name": "python",
   "nbconvert_exporter": "python",
   "pygments_lexer": "ipython3",
   "version": "3.7.1"
  }
 },
 "nbformat": 4,
 "nbformat_minor": 2
}
