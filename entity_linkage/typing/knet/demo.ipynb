{
 "cells": [
  {
   "cell_type": "code",
   "execution_count": 1,
   "metadata": {
    "colab": {},
    "colab_type": "code",
    "id": "yg9kR1nzJ6SV"
   },
   "outputs": [],
   "source": [
    "from main import knet"
   ]
  },
  {
   "cell_type": "code",
   "execution_count": 2,
   "metadata": {
    "colab": {},
    "colab_type": "code",
    "id": "WHYoBWnXJ8wN"
   },
   "outputs": [],
   "source": [
    "knet_instance = knet()"
   ]
  },
  {
   "cell_type": "code",
   "execution_count": 3,
   "metadata": {
    "colab": {},
    "colab_type": "code",
    "id": "RLQKZBe1J6fb"
   },
   "outputs": [],
   "source": [
    "knet_instance.read_dataset([\n",
    "    \"data/types\",\n",
    "    \"data/disamb_file\",\n",
    "    \"data/embedding.npy\",\n",
    "    \"data/glove.840B.300d.txt\",\n",
    "    \"data/train_context.npy\",\n",
    "    \"data/train_entity.npy\",\n",
    "    \"data/train_fbid.npy\",\n",
    "    \"data/train_label.npy\",\n",
    "    \"data/valid_context.npy\",\n",
    "    \"data/valid_entity.npy\",\n",
    "    \"data/valid_fbid.npy\",\n",
    "    \"data/valid_label.npy\"\n",
    "])"
   ]
  },
  {
   "cell_type": "code",
   "execution_count": 4,
   "metadata": {
    "colab": {
     "base_uri": "https://localhost:8080/",
     "height": 2995
    },
    "colab_type": "code",
    "id": "Mv5wWK1jNgsN",
    "outputId": "d7561930-e014-49d6-bd41-507fd2197fd8",
    "scrolled": true
   },
   "outputs": [
    {
     "name": "stdout",
     "output_type": "stream",
     "text": [
      "[INFO]  Loading data\n",
      "vocabulary size: 171975\n",
      "[INFO]  Begin training\n",
      "[INFO]  Validating after running 0 epoches\n",
      "all\n",
      "strict: 0.000000\n",
      "loose-macro (precision recall f1): 0.039039 0.453493 0.071890\n",
      "loose-micro (precision recall f1): 0.039090 0.465283 0.072121\n",
      "\n",
      "\n",
      "[INFO]  Epoch 0, Batch 0\n",
      "[INFO]  Epoch 0, Batch 100\n",
      "[INFO]  Epoch 0, Batch 200\n",
      "[INFO]  Epoch 0, Batch 300\n",
      "[INFO]  Epoch 0, Batch 400\n",
      "[INFO]  Epoch 0, Batch 500\n",
      "[INFO]  Epoch 0, Batch 600\n",
      "[INFO]  Epoch 0, Batch 700\n",
      "[INFO]  Epoch 0, Batch 800\n",
      "[INFO]  Epoch 0, Batch 900\n",
      "[INFO]  Validating after running 1 epoches\n",
      "all\n",
      "strict: 0.449280\n",
      "loose-macro (precision recall f1): 0.771262 0.714465 0.741778\n",
      "loose-micro (precision recall f1): 0.782485 0.734768 0.757876\n",
      "\n",
      "\n",
      "[INFO]  Epoch 1, Batch 0\n",
      "[INFO]  Epoch 1, Batch 100\n",
      "[INFO]  Epoch 1, Batch 200\n",
      "[INFO]  Epoch 1, Batch 300\n",
      "[INFO]  Epoch 1, Batch 400\n",
      "[INFO]  Epoch 1, Batch 500\n",
      "[INFO]  Epoch 1, Batch 600\n",
      "[INFO]  Epoch 1, Batch 700\n",
      "[INFO]  Epoch 1, Batch 800\n",
      "[INFO]  Epoch 1, Batch 900\n",
      "[INFO]  Validating after running 2 epoches\n",
      "all\n",
      "strict: 0.464980\n",
      "loose-macro (precision recall f1): 0.778662 0.724846 0.750791\n",
      "loose-micro (precision recall f1): 0.786514 0.742028 0.763623\n",
      "\n",
      "\n",
      "[INFO]  Epoch 2, Batch 0\n",
      "[INFO]  Epoch 2, Batch 100\n",
      "[INFO]  Epoch 2, Batch 200\n",
      "[INFO]  Epoch 2, Batch 300\n",
      "[INFO]  Epoch 2, Batch 400\n",
      "[INFO]  Epoch 2, Batch 500\n",
      "[INFO]  Epoch 2, Batch 600\n",
      "[INFO]  Epoch 2, Batch 700\n",
      "[INFO]  Epoch 2, Batch 800\n",
      "[INFO]  Epoch 2, Batch 900\n",
      "[INFO]  Validating after running 3 epoches\n",
      "all\n",
      "strict: 0.468990\n",
      "loose-macro (precision recall f1): 0.780779 0.728861 0.753927\n",
      "loose-micro (precision recall f1): 0.787460 0.746779 0.766580\n",
      "\n",
      "\n",
      "[INFO]  Epoch 3, Batch 0\n",
      "[INFO]  Epoch 3, Batch 100\n",
      "[INFO]  Epoch 3, Batch 200\n",
      "[INFO]  Epoch 3, Batch 300\n",
      "[INFO]  Epoch 3, Batch 400\n",
      "[INFO]  Epoch 3, Batch 500\n",
      "[INFO]  Epoch 3, Batch 600\n",
      "[INFO]  Epoch 3, Batch 700\n",
      "[INFO]  Epoch 3, Batch 800\n",
      "[INFO]  Epoch 3, Batch 900\n",
      "[INFO]  Validating after running 4 epoches\n",
      "all\n",
      "strict: 0.471040\n",
      "loose-macro (precision recall f1): 0.785019 0.730405 0.756728\n",
      "loose-micro (precision recall f1): 0.791055 0.745980 0.767857\n",
      "\n",
      "\n",
      "[INFO]  Epoch 4, Batch 0\n",
      "[INFO]  Epoch 4, Batch 100\n",
      "[INFO]  Epoch 4, Batch 200\n",
      "[INFO]  Epoch 4, Batch 300\n",
      "[INFO]  Epoch 4, Batch 400\n",
      "[INFO]  Epoch 4, Batch 500\n",
      "[INFO]  Epoch 4, Batch 600\n",
      "[INFO]  Epoch 4, Batch 700\n",
      "[INFO]  Epoch 4, Batch 800\n",
      "[INFO]  Epoch 4, Batch 900\n",
      "[INFO]  Validating after running 5 epoches\n",
      "all\n",
      "strict: 0.472010\n",
      "loose-macro (precision recall f1): 0.784504 0.732338 0.757524\n",
      "loose-micro (precision recall f1): 0.789130 0.747503 0.767753\n",
      "\n",
      "\n",
      "[INFO]  Epoch 5, Batch 0\n",
      "[INFO]  Epoch 5, Batch 100\n",
      "[INFO]  Epoch 5, Batch 200\n",
      "[INFO]  Epoch 5, Batch 300\n",
      "[INFO]  Epoch 5, Batch 400\n",
      "[INFO]  Epoch 5, Batch 500\n",
      "[INFO]  Epoch 5, Batch 600\n",
      "[INFO]  Epoch 5, Batch 700\n",
      "[INFO]  Epoch 5, Batch 800\n",
      "[INFO]  Epoch 5, Batch 900\n",
      "[INFO]  Validating after running 6 epoches\n",
      "all\n",
      "strict: 0.473120\n",
      "loose-macro (precision recall f1): 0.786042 0.731316 0.757692\n",
      "loose-micro (precision recall f1): 0.791267 0.745358 0.767626\n",
      "\n",
      "\n",
      "[INFO]  Epoch 6, Batch 0\n",
      "[INFO]  Epoch 6, Batch 100\n",
      "[INFO]  Epoch 6, Batch 200\n",
      "[INFO]  Epoch 6, Batch 300\n",
      "[INFO]  Epoch 6, Batch 400\n",
      "[INFO]  Epoch 6, Batch 500\n",
      "[INFO]  Epoch 6, Batch 600\n",
      "[INFO]  Epoch 6, Batch 700\n",
      "[INFO]  Epoch 6, Batch 800\n",
      "[INFO]  Epoch 6, Batch 900\n",
      "[INFO]  Validating after running 7 epoches\n",
      "all\n",
      "strict: 0.471340\n",
      "loose-macro (precision recall f1): 0.785089 0.732676 0.757978\n",
      "loose-micro (precision recall f1): 0.789051 0.746870 0.767382\n",
      "\n",
      "\n",
      "[INFO]  Epoch 7, Batch 0\n",
      "[INFO]  Epoch 7, Batch 100\n",
      "[INFO]  Epoch 7, Batch 200\n",
      "[INFO]  Epoch 7, Batch 300\n",
      "[INFO]  Epoch 7, Batch 400\n",
      "[INFO]  Epoch 7, Batch 500\n",
      "[INFO]  Epoch 7, Batch 600\n",
      "[INFO]  Epoch 7, Batch 700\n",
      "[INFO]  Epoch 7, Batch 800\n",
      "[INFO]  Epoch 7, Batch 900\n",
      "[INFO]  Validating after running 8 epoches\n",
      "all\n",
      "strict: 0.469890\n",
      "loose-macro (precision recall f1): 0.782559 0.734141 0.757577\n",
      "loose-micro (precision recall f1): 0.785311 0.749219 0.766840\n",
      "\n",
      "\n",
      "[INFO]  Epoch 8, Batch 0\n",
      "[INFO]  Epoch 8, Batch 100\n",
      "[INFO]  Epoch 8, Batch 200\n",
      "[INFO]  Epoch 8, Batch 300\n",
      "[INFO]  Epoch 8, Batch 400\n",
      "[INFO]  Epoch 8, Batch 500\n",
      "[INFO]  Epoch 8, Batch 600\n",
      "[INFO]  Epoch 8, Batch 700\n",
      "[INFO]  Epoch 8, Batch 800\n",
      "[INFO]  Epoch 8, Batch 900\n",
      "[INFO]  Validating after running 9 epoches\n",
      "all\n",
      "strict: 0.467480\n",
      "loose-macro (precision recall f1): 0.782142 0.730281 0.755322\n",
      "loose-micro (precision recall f1): 0.787186 0.744833 0.765424\n",
      "\n",
      "\n",
      "[INFO]  Epoch 9, Batch 0\n",
      "[INFO]  Epoch 9, Batch 100\n",
      "[INFO]  Epoch 9, Batch 200\n",
      "[INFO]  Epoch 9, Batch 300\n",
      "[INFO]  Epoch 9, Batch 400\n",
      "[INFO]  Epoch 9, Batch 500\n",
      "[INFO]  Epoch 9, Batch 600\n",
      "[INFO]  Epoch 9, Batch 700\n",
      "[INFO]  Epoch 9, Batch 800\n",
      "[INFO]  Epoch 9, Batch 900\n"
     ]
    }
   ],
   "source": [
    "knet_instance.train(None)"
   ]
  },
  {
   "cell_type": "code",
   "execution_count": 5,
   "metadata": {
    "colab": {
     "base_uri": "https://localhost:8080/",
     "height": 204
    },
    "colab_type": "code",
    "id": "OlKmfoGBW3Re",
    "outputId": "7a612f13-7937-407b-b7ff-ed445ce3d085"
   },
   "outputs": [
    {
     "name": "stdout",
     "output_type": "stream",
     "text": [
      "Start Predicting\n",
      "vocabulary size: 171975\n",
      "[INFO]  Begin computing direct outputs\n",
      "Result has been output to following file: data/entity_typing_test_output.txt\n"
     ]
    }
   ],
   "source": [
    "output_file = knet_instance.predict([\"data/entity_typing_test_input.txt\"])\n",
    "print(\"Result has been output to following file: {}\".format(output_file))"
   ]
  },
  {
   "cell_type": "code",
   "execution_count": 6,
   "metadata": {},
   "outputs": [
    {
     "name": "stdout",
     "output_type": "stream",
     "text": [
      "precision: 0.6666666666666666\trecall: 0.6666666666666666\tf1: 0.6666666666666666\n"
     ]
    }
   ],
   "source": [
    "precision, recall, f1_score = knet_instance.evaluate([])\n",
    "print(\"precision: {}\\trecall: {}\\tf1: {}\".format(precision, recall, f1_score))"
   ]
  },
  {
   "cell_type": "code",
   "execution_count": null,
   "metadata": {},
   "outputs": [],
   "source": []
  }
 ],
 "metadata": {
  "accelerator": "GPU",
  "colab": {
   "collapsed_sections": [],
   "name": "jupyter.ipynb",
   "provenance": [],
   "version": "0.3.2"
  },
  "kernelspec": {
   "display_name": "Python 3",
   "language": "python",
   "name": "python3"
  },
  "language_info": {
   "codemirror_mode": {
    "name": "ipython",
    "version": 3
   },
   "file_extension": ".py",
   "mimetype": "text/x-python",
   "name": "python",
   "nbconvert_exporter": "python",
   "pygments_lexer": "ipython3",
   "version": "3.7.3"
  }
 },
 "nbformat": 4,
 "nbformat_minor": 1
}
